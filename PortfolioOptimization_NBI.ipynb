{
  "nbformat": 4,
  "nbformat_minor": 0,
  "metadata": {
    "colab": {
      "provenance": [],
      "authorship_tag": "ABX9TyOWnipz/wRSJFmjnmk/uGNM",
      "include_colab_link": true
    },
    "kernelspec": {
      "name": "python3",
      "display_name": "Python 3"
    },
    "language_info": {
      "name": "python"
    }
  },
  "cells": [
    {
      "cell_type": "markdown",
      "metadata": {
        "id": "view-in-github",
        "colab_type": "text"
      },
      "source": [
        "<a href=\"https://colab.research.google.com/github/sanjanagarai/Dynamic_Portfolio_Optimization/blob/main/PortfolioOptimization_NBI.ipynb\" target=\"_parent\"><img src=\"https://colab.research.google.com/assets/colab-badge.svg\" alt=\"Open In Colab\"/></a>"
      ]
    },
    {
      "cell_type": "markdown",
      "source": [
        "Importing libraries and modules"
      ],
      "metadata": {
        "id": "x1wQEs0v6QBo"
      }
    },
    {
      "cell_type": "code",
      "source": [
        "import pandas as pd\n",
        "import numpy as np\n",
        "import math\n",
        "\n",
        "from scipy.optimize import minimize\n",
        "import matplotlib.pyplot as plt"
      ],
      "metadata": {
        "id": "ZewHA1H8gzx7"
      },
      "execution_count": null,
      "outputs": []
    },
    {
      "cell_type": "markdown",
      "source": [
        "Loading the dataset"
      ],
      "metadata": {
        "id": "pyrk3CzegP91"
      }
    },
    {
      "cell_type": "code",
      "execution_count": null,
      "metadata": {
        "colab": {
          "base_uri": "https://localhost:8080/"
        },
        "id": "XN3Ul6JcfwGt",
        "outputId": "b995c37e-4ab6-4294-a099-5c3612ee7b0b"
      },
      "outputs": [
        {
          "output_type": "stream",
          "name": "stdout",
          "text": [
            "Mounted at /content/drive\n"
          ]
        }
      ],
      "source": [
        "#Connecting to drive\n",
        "from google.colab import drive\n",
        "drive.mount('/content/drive')"
      ]
    },
    {
      "cell_type": "markdown",
      "source": [
        "Our portfolio will consist of stocks of 3 companies: ADANIENT.NS, SBIN.NS, EICHERMOT.NS"
      ],
      "metadata": {
        "id": "DHOTvCgB6UsH"
      }
    },
    {
      "cell_type": "code",
      "source": [
        "#Load the dataset\n",
        "adani = pd.read_csv(\"/content/drive/MyDrive/TOP 10 NIFTY/ADANIENT.NS.csv\")\n",
        "sbi = pd.read_csv(\"/content/drive/MyDrive/TOP 10 NIFTY/SBIN.NS.csv\")\n",
        "eichermot = pd.read_csv(\"/content/drive/MyDrive/TOP 10 NIFTY/EICHERMOT.NS.csv\")"
      ],
      "metadata": {
        "id": "jzucl8m_gbOc"
      },
      "execution_count": null,
      "outputs": []
    },
    {
      "cell_type": "code",
      "source": [
        "#Store only the close values in a numpy array\n",
        "adani_close = adani.filter(['Close'])\n",
        "adani_close = adani_close.values\n",
        "sbi_close = sbi.filter(['Close'])\n",
        "sbi_close = sbi_close.values\n",
        "eichermot_close = eichermot.filter(['Close'])\n",
        "eichermot_close = eichermot_close.values\n"
      ],
      "metadata": {
        "id": "sA0mOpReg-dK"
      },
      "execution_count": null,
      "outputs": []
    },
    {
      "cell_type": "markdown",
      "source": [
        "Calculating the intermediaries required to formulate the NBI subproblem"
      ],
      "metadata": {
        "id": "0uWmdk_n6gJb"
      }
    },
    {
      "cell_type": "code",
      "source": [
        "adani_return = 0\n",
        "adani_return_list=[]\n",
        "for i in range(1,len(adani_close)):\n",
        "  ret = math.fabs((adani_close[i]-adani_close[i-1])/adani_close[i-1])\n",
        "  adani_return+= ret\n",
        "  adani_return_list.append(ret)\n",
        "\n",
        "\n",
        "total = len(adani_close)-1\n",
        "avg_adani_return = adani_return/total\n",
        "print(\"The average return on ADANIENT over the 1 year stock data is: \", avg_adani_return)"
      ],
      "metadata": {
        "colab": {
          "base_uri": "https://localhost:8080/"
        },
        "id": "iDv4Z0aYhCkH",
        "outputId": "cf75f473-f5a2-4b47-c926-cd26f0014266"
      },
      "execution_count": null,
      "outputs": [
        {
          "output_type": "stream",
          "name": "stdout",
          "text": [
            "The average return on ADANIENT over the 1 year stock data is:  0.02171286380599062\n"
          ]
        }
      ]
    },
    {
      "cell_type": "code",
      "source": [
        "sum=0\n",
        "for i in range(len(adani_return_list)):\n",
        "  sum+=(adani_return_list[i]-avg_adani_return)**2\n",
        "\n",
        "avg=sum/len(adani_return_list)\n",
        "sd_adani = avg**0.5\n",
        "print(\"The risk associated with ADANIENT stock is: \", sd_adani)"
      ],
      "metadata": {
        "colab": {
          "base_uri": "https://localhost:8080/"
        },
        "id": "Mc_M3JIblp54",
        "outputId": "1f47f1d5-0d71-447c-eee8-51b5a3362333"
      },
      "execution_count": null,
      "outputs": [
        {
          "output_type": "stream",
          "name": "stdout",
          "text": [
            "The risk associated with ADANIENT stock is:  0.032868029346322256\n"
          ]
        }
      ]
    },
    {
      "cell_type": "code",
      "source": [
        "sbi_return = 0\n",
        "sbi_return_list=[]\n",
        "for i in range(1,len(sbi_close)):\n",
        "  ret=math.fabs((sbi_close[i]-sbi_close[i-1])/sbi_close[i-1])\n",
        "  sbi_return+= ret\n",
        "  sbi_return_list.append(ret)\n",
        "\n",
        "total = len(sbi_close)-1\n",
        "avg_sbi_return = sbi_return/total\n",
        "print(\"The average return on SBI over the 1 year stock data is: \", avg_sbi_return)"
      ],
      "metadata": {
        "colab": {
          "base_uri": "https://localhost:8080/"
        },
        "id": "66QXo5FnheQM",
        "outputId": "6c99d094-c48a-4786-deb2-b02a8bc1f4cd"
      },
      "execution_count": null,
      "outputs": [
        {
          "output_type": "stream",
          "name": "stdout",
          "text": [
            "The average return on SBI over the 1 year stock data is:  0.01008635632695111\n"
          ]
        }
      ]
    },
    {
      "cell_type": "code",
      "source": [
        "sum=0\n",
        "for i in range(len(sbi_return_list)):\n",
        "  sum+=(sbi_return_list[i]-avg_sbi_return)**2\n",
        "\n",
        "avg=sum/len(sbi_return_list)\n",
        "sd_sbi = avg**0.5\n",
        "print(\"The risk associated with SBI stock is: \", sd_sbi)"
      ],
      "metadata": {
        "colab": {
          "base_uri": "https://localhost:8080/"
        },
        "id": "kK07NdbUlEvQ",
        "outputId": "f227e4d4-9f0a-4d96-c034-5a6428b0cc94"
      },
      "execution_count": null,
      "outputs": [
        {
          "output_type": "stream",
          "name": "stdout",
          "text": [
            "The risk associated with SBI stock is:  0.009240498004450927\n"
          ]
        }
      ]
    },
    {
      "cell_type": "code",
      "source": [
        "eichermot_return = 0\n",
        "eichermot_return_list=[]\n",
        "for i in range(1,len(eichermot_close)):\n",
        "  ret = math.fabs((eichermot_close[i]-eichermot_close[i-1])/eichermot_close[i-1])\n",
        "  eichermot_return+= ret\n",
        "  eichermot_return_list.append(ret)\n",
        "\n",
        "total = len(eichermot_close)-1\n",
        "avg_eichermot_return = eichermot_return/total\n",
        "print(\"The average return on EICHERMOT over the 1 year stock data is: \", avg_eichermot_return)"
      ],
      "metadata": {
        "colab": {
          "base_uri": "https://localhost:8080/"
        },
        "id": "CIAZzRUEj-SM",
        "outputId": "5d8d1ec9-ff3c-408c-8372-93c39f4eda4a"
      },
      "execution_count": null,
      "outputs": [
        {
          "output_type": "stream",
          "name": "stdout",
          "text": [
            "The average return on EICHERMOT over the 1 year stock data is:  0.010796811123927027\n"
          ]
        }
      ]
    },
    {
      "cell_type": "code",
      "source": [
        "sum=0\n",
        "for i in range(len(eichermot_return_list)):\n",
        "  sum+=(eichermot_return_list[i]-avg_eichermot_return)**2\n",
        "\n",
        "avg=sum/len(eichermot_return_list)\n",
        "sd_eichermot = avg**0.5\n",
        "print(\"The risk assocaited with EICHERMOT stock is: \",sd_eichermot)"
      ],
      "metadata": {
        "colab": {
          "base_uri": "https://localhost:8080/"
        },
        "id": "hU2WN7itlU5p",
        "outputId": "3ae54444-b2dc-472d-f5a2-ffffa6720db2"
      },
      "execution_count": null,
      "outputs": [
        {
          "output_type": "stream",
          "name": "stdout",
          "text": [
            "The risk assocaited with EICHERMOT stock is:  0.009672449223367258\n"
          ]
        }
      ]
    },
    {
      "cell_type": "markdown",
      "source": [
        "Let the total investment amount be X and the fraction of amount in each stock be x1, x2 and x3 for ADANIENT, SBI AND EICHERMOTORS resepctively"
      ],
      "metadata": {
        "id": "Qtqy-6d4mgNn"
      }
    },
    {
      "cell_type": "code",
      "source": [
        "#Defining the functions\n",
        "\n",
        "#risk function - function 1\n",
        "def objective1(x):\n",
        "  return sd_adani*x[0] + sd_sbi*x[1] + sd_eichermot*x[2]\n",
        "\n",
        "#Return function - function 2\n",
        "def objective2(x):\n",
        "  return -(avg_adani_return*x[0] + avg_sbi_return*x[1] + avg_eichermot_return*x[2])\n",
        "\n",
        "#Defning the constraints\n",
        "#Budget constraints\n",
        "def constraint1(x):\n",
        "  return x[0]+x[1]+x[2]-1\n",
        "\n",
        "#Risk limit\n",
        "def constraint2(x):\n",
        "    return 0.15 - sd_adani*x[0] + sd_sbi*x[1] + sd_eichermot*x[2]\n",
        "\n",
        "con1 = {'type': 'eq', 'fun':constraint1}\n",
        "con2 = {'type': 'ineq', 'fun':constraint2}\n",
        "constraints = [con1, con2]\n",
        "b=(0.2, 0.8)\n",
        "X=[0.3, 0.5, 0.2]\n",
        "bnds = (b,b,b)"
      ],
      "metadata": {
        "id": "qN8YTNxikVeA"
      },
      "execution_count": null,
      "outputs": []
    },
    {
      "cell_type": "markdown",
      "source": [
        "Solution using Convex Optimization"
      ],
      "metadata": {
        "id": "A3My9gYYurxR"
      }
    },
    {
      "cell_type": "code",
      "source": [
        "def objective3(x):\n",
        "  global a1,a2\n",
        "  return a1*(sd_adani*x[0] + sd_sbi*x[1] + sd_eichermot*x[2]) + a2*(-(avg_adani_return*x[0] + avg_sbi_return*x[1] + avg_eichermot_return*x[2]))\n",
        "\n",
        "def objective4(x):\n",
        "  global a1,a2\n",
        "  return a1*(sd_adani*x[0] + sd_sbi*x[1] + sd_eichermot*x[2]) +5*a2*(-(avg_adani_return*x[0] + avg_sbi_return*x[1] + avg_eichermot_return*x[2]))\n",
        "\n",
        "def objective5(x):\n",
        "  global a1,a2\n",
        "  return 10*a1*(sd_adani*x[0] + sd_sbi*x[1] + sd_eichermot*x[2]) + a2*(-(avg_adani_return*x[0] + avg_sbi_return*x[1] + avg_eichermot_return*x[2]))\n",
        "\n",
        "X1=[]\n",
        "Y1=[]\n",
        "for i in range(21):\n",
        "    a1=1-(0.05*i)\n",
        "    a2=1-a1\n",
        "    x1=X\n",
        "    sol1 = minimize(objective3, x1, method='SLSQP',bounds= bnds , constraints=con2)\n",
        "    print(sol1)\n",
        "    print(\"weights: \", a1, a2)\n",
        "    X1.append(objective1(sol1.x))\n",
        "    print(objective1(sol1.x))\n",
        "    print(\"F2: \", objective2(sol1.x))\n",
        "    Y1.append(objective2(sol1.x))\n",
        "    print(\"**********************************************************\")\n",
        "\n",
        "X2=[]\n",
        "Y2=[]\n",
        "#Feature Scaling\n",
        "for i in range(21):\n",
        "    a1=1-(0.05*i)\n",
        "    a2=1-a1\n",
        "    x1=X\n",
        "    sol1 = minimize(objective4, x1, method='SLSQP',bounds= bnds , constraints=con2)\n",
        "    print(\"weights: \", a1, a2)\n",
        "    print(\"F1: \", objective1(sol1.x))\n",
        "    X2.append(objective1(sol1.x))\n",
        "    print(\"F2: \", objective2(sol1.x))\n",
        "    Y2.append(objective2(sol1.x))\n",
        "    print(\"**********************************************************\")\n",
        "\n",
        "X3=[]\n",
        "Y3=[]\n",
        "print(\"FEATURE SCALING\")\n",
        "\n",
        "for i in range(21):\n",
        "    a1=1-(0.05*i)\n",
        "    a2=1-a1\n",
        "    x1=X\n",
        "    sol1 = minimize(objective5, x1, method='SLSQP',bounds= bnds , constraints=con2)\n",
        "    print(\"weights: \", a1, a2)\n",
        "    print(\"F1: \", objective1(sol1.x))\n",
        "    X3.append(objective1(sol1.x))\n",
        "    print(\"F2: \", objective2(sol1.x))\n",
        "    Y3.append(objective2(sol1.x))\n",
        "    print(\"**********************************************************\")\n"
      ],
      "metadata": {
        "colab": {
          "base_uri": "https://localhost:8080/"
        },
        "id": "09IckwBourdC",
        "outputId": "ed32260c-b26b-4fc6-e55f-f356dad783de"
      },
      "execution_count": null,
      "outputs": [
        {
          "output_type": "stream",
          "name": "stdout",
          "text": [
            " message: Optimization terminated successfully\n",
            " success: True\n",
            "  status: 0\n",
            "     fun: 0.010356195314828091\n",
            "       x: [ 2.000e-01  2.000e-01  2.000e-01]\n",
            "     nit: 6\n",
            "     jac: [ 3.287e-02  9.240e-03  9.672e-03]\n",
            "    nfev: 24\n",
            "    njev: 6\n",
            "weights:  1.0 0.0\n",
            "0.010356195314828091\n",
            "F2:  -0.008519206251373753\n",
            "**********************************************************\n",
            " message: Optimization terminated successfully\n",
            " success: True\n",
            "  status: 0\n",
            "     fun: 0.009412425236517996\n",
            "       x: [ 2.000e-01  2.000e-01  2.000e-01]\n",
            "     nit: 6\n",
            "     jac: [ 3.014e-02  8.274e-03  8.649e-03]\n",
            "    nfev: 24\n",
            "    njev: 6\n",
            "weights:  0.95 0.050000000000000044\n",
            "0.01035619531482809\n",
            "F2:  -0.008519206251373751\n",
            "**********************************************************\n",
            " message: Optimization terminated successfully\n",
            " success: True\n",
            "  status: 0\n",
            "     fun: 0.008468655158207905\n",
            "       x: [ 2.000e-01  2.000e-01  2.000e-01]\n",
            "     nit: 7\n",
            "     jac: [ 2.741e-02  7.308e-03  7.626e-03]\n",
            "    nfev: 28\n",
            "    njev: 7\n",
            "weights:  0.9 0.09999999999999998\n",
            "0.01035619531482809\n",
            "F2:  -0.008519206251373751\n",
            "**********************************************************\n",
            " message: Optimization terminated successfully\n",
            " success: True\n",
            "  status: 0\n",
            "     fun: 0.007524885079897816\n",
            "       x: [ 2.000e-01  2.000e-01  2.000e-01]\n",
            "     nit: 7\n",
            "     jac: [ 2.468e-02  6.341e-03  6.602e-03]\n",
            "    nfev: 28\n",
            "    njev: 7\n",
            "weights:  0.85 0.15000000000000002\n",
            "0.010356195314828094\n",
            "F2:  -0.008519206251373757\n",
            "**********************************************************\n",
            " message: Optimization terminated successfully\n",
            " success: True\n",
            "  status: 0\n",
            "     fun: 0.0065811150015877215\n",
            "       x: [ 2.000e-01  2.000e-01  2.000e-01]\n",
            "     nit: 7\n",
            "     jac: [ 2.195e-02  5.375e-03  5.579e-03]\n",
            "    nfev: 28\n",
            "    njev: 7\n",
            "weights:  0.8 0.19999999999999996\n",
            "0.01035619531482809\n",
            "F2:  -0.008519206251373751\n",
            "**********************************************************\n",
            " message: Optimization terminated successfully\n",
            " success: True\n",
            "  status: 0\n",
            "     fun: 0.005637344923277633\n",
            "       x: [ 2.000e-01  2.000e-01  2.000e-01]\n",
            "     nit: 7\n",
            "     jac: [ 1.922e-02  4.409e-03  4.555e-03]\n",
            "    nfev: 28\n",
            "    njev: 7\n",
            "weights:  0.75 0.25\n",
            "0.010356195314828096\n",
            "F2:  -0.008519206251373757\n",
            "**********************************************************\n",
            " message: Optimization terminated successfully\n",
            " success: True\n",
            "  status: 0\n",
            "     fun: 0.004693574844967538\n",
            "       x: [ 2.000e-01  2.000e-01  2.000e-01]\n",
            "     nit: 7\n",
            "     jac: [ 1.649e-02  3.442e-03  3.532e-03]\n",
            "    nfev: 28\n",
            "    njev: 7\n",
            "weights:  0.7 0.30000000000000004\n",
            "0.010356195314828091\n",
            "F2:  -0.008519206251373753\n",
            "**********************************************************\n",
            " message: Optimization terminated successfully\n",
            " success: True\n",
            "  status: 0\n",
            "     fun: 0.0037498047666574435\n",
            "       x: [ 2.000e-01  2.000e-01  2.000e-01]\n",
            "     nit: 8\n",
            "     jac: [ 1.376e-02  2.476e-03  2.508e-03]\n",
            "    nfev: 32\n",
            "    njev: 8\n",
            "weights:  0.6499999999999999 0.3500000000000001\n",
            "0.010356195314828091\n",
            "F2:  -0.008519206251373753\n",
            "**********************************************************\n",
            " message: Optimization terminated successfully\n",
            " success: True\n",
            "  status: 0\n",
            "     fun: 0.002806034688347353\n",
            "       x: [ 2.000e-01  2.000e-01  2.000e-01]\n",
            "     nit: 9\n",
            "     jac: [ 1.104e-02  1.510e-03  1.485e-03]\n",
            "    nfev: 36\n",
            "    njev: 9\n",
            "weights:  0.6 0.4\n",
            "0.01035619531482809\n",
            "F2:  -0.008519206251373751\n",
            "**********************************************************\n",
            " message: Optimization terminated successfully\n",
            " success: True\n",
            "  status: 0\n",
            "     fun: 0.0020215088136191633\n",
            "       x: [ 2.000e-01  4.930e-01  2.000e-01]\n",
            "     nit: 4\n",
            "     jac: [ 8.307e-03  5.434e-04  4.613e-04]\n",
            "    nfev: 16\n",
            "    njev: 4\n",
            "weights:  0.55 0.44999999999999996\n",
            "0.013064069881100893\n",
            "F2:  -0.011474954713302952\n",
            "**********************************************************\n",
            " message: Optimization terminated successfully\n",
            " success: True\n",
            "  status: 0\n",
            "     fun: 0.0007824797556061037\n",
            "       x: [ 2.000e-01  5.078e-01  2.104e-01]\n",
            "     nit: 4\n",
            "     jac: [ 5.578e-03 -4.229e-04 -5.622e-04]\n",
            "    nfev: 16\n",
            "    njev: 4\n",
            "weights:  0.5 0.5\n",
            "0.013300864656760104\n",
            "F2:  -0.011735905145547896\n",
            "**********************************************************\n",
            " message: Optimization terminated successfully\n",
            " success: True\n",
            "  status: 0\n",
            "     fun: -0.0018102250538618008\n",
            "       x: [ 2.000e-01  8.000e-01  8.000e-01]\n",
            "     nit: 13\n",
            "     jac: [ 2.849e-03 -1.389e-03 -1.586e-03]\n",
            "    nfev: 52\n",
            "    njev: 13\n",
            "weights:  0.44999999999999996 0.55\n",
            "0.021703963651518998\n",
            "F2:  -0.02104910672190063\n",
            "**********************************************************\n",
            " message: Optimization terminated successfully\n",
            " success: True\n",
            "  status: 0\n",
            "     fun: -0.0039392254396718885\n",
            "       x: [ 2.724e-01  8.000e-01  8.000e-01]\n",
            "     nit: 9\n",
            "     jac: [ 1.195e-04 -2.356e-03 -2.609e-03]\n",
            "    nfev: 36\n",
            "    njev: 9\n",
            "weights:  0.3999999999999999 0.6000000000000001\n",
            "0.024084105936008713\n",
            "F2:  -0.022621446356792283\n",
            "**********************************************************\n",
            " message: Optimization terminated successfully\n",
            " success: True\n",
            "  status: 0\n",
            "     fun: -0.007651262812812433\n",
            "       x: [ 8.000e-01  8.000e-01  8.000e-01]\n",
            "     nit: 11\n",
            "     jac: [-2.610e-03 -3.322e-03 -3.633e-03]\n",
            "    nfev: 44\n",
            "    njev: 11\n",
            "weights:  0.35 0.65\n",
            "0.04142478125931236\n",
            "F2:  -0.034076825005495005\n",
            "**********************************************************\n",
            " message: Optimization terminated successfully\n",
            " success: True\n",
            "  status: 0\n",
            "     fun: -0.011426343126052802\n",
            "       x: [ 8.000e-01  8.000e-01  8.000e-01]\n",
            "     nit: 10\n",
            "     jac: [-5.339e-03 -4.288e-03 -4.656e-03]\n",
            "    nfev: 40\n",
            "    njev: 10\n",
            "weights:  0.29999999999999993 0.7000000000000001\n",
            "0.04142478125931236\n",
            "F2:  -0.034076825005495005\n",
            "**********************************************************\n",
            " message: Optimization terminated successfully\n",
            " success: True\n",
            "  status: 0\n",
            "     fun: -0.015201423439293158\n",
            "       x: [ 8.000e-01  8.000e-01  8.000e-01]\n",
            "     nit: 9\n",
            "     jac: [-8.068e-03 -5.255e-03 -5.679e-03]\n",
            "    nfev: 36\n",
            "    njev: 9\n",
            "weights:  0.25 0.75\n",
            "0.04142478125931232\n",
            "F2:  -0.034076825005494984\n",
            "**********************************************************\n",
            " message: Optimization terminated successfully\n",
            " success: True\n",
            "  status: 0\n",
            "     fun: -0.018976503752533534\n",
            "       x: [ 8.000e-01  8.000e-01  8.000e-01]\n",
            "     nit: 9\n",
            "     jac: [-1.080e-02 -6.221e-03 -6.703e-03]\n",
            "    nfev: 36\n",
            "    njev: 9\n",
            "weights:  0.19999999999999996 0.8\n",
            "0.04142478125931236\n",
            "F2:  -0.034076825005495005\n",
            "**********************************************************\n",
            " message: Optimization terminated successfully\n",
            " success: True\n",
            "  status: 0\n",
            "     fun: -0.02275158406577391\n",
            "       x: [ 8.000e-01  8.000e-01  8.000e-01]\n",
            "     nit: 9\n",
            "     jac: [-1.353e-02 -7.187e-03 -7.726e-03]\n",
            "    nfev: 36\n",
            "    njev: 9\n",
            "weights:  0.1499999999999999 0.8500000000000001\n",
            "0.04142478125931236\n",
            "F2:  -0.034076825005495005\n",
            "**********************************************************\n",
            " message: Optimization terminated successfully\n",
            " success: True\n",
            "  status: 0\n",
            "     fun: -0.026526664379014263\n",
            "       x: [ 8.000e-01  8.000e-01  8.000e-01]\n",
            "     nit: 9\n",
            "     jac: [-1.625e-02 -8.154e-03 -8.750e-03]\n",
            "    nfev: 36\n",
            "    njev: 9\n",
            "weights:  0.09999999999999998 0.9\n",
            "0.04142478125931235\n",
            "F2:  -0.034076825005495\n",
            "**********************************************************\n",
            " message: Optimization terminated successfully\n",
            " success: True\n",
            "  status: 0\n",
            "     fun: -0.03030174469225464\n",
            "       x: [ 8.000e-01  8.000e-01  8.000e-01]\n",
            "     nit: 9\n",
            "     jac: [-1.898e-02 -9.120e-03 -9.773e-03]\n",
            "    nfev: 36\n",
            "    njev: 9\n",
            "weights:  0.04999999999999993 0.9500000000000001\n",
            "0.04142478125931236\n",
            "F2:  -0.034076825005495005\n",
            "**********************************************************\n",
            " message: Optimization terminated successfully\n",
            " success: True\n",
            "  status: 0\n",
            "     fun: -0.034076825005495005\n",
            "       x: [ 8.000e-01  8.000e-01  8.000e-01]\n",
            "     nit: 9\n",
            "     jac: [-2.171e-02 -1.009e-02 -1.080e-02]\n",
            "    nfev: 36\n",
            "    njev: 9\n",
            "weights:  0.0 1.0\n",
            "0.04142478125931234\n",
            "F2:  -0.034076825005495005\n",
            "**********************************************************\n",
            "weights:  1.0 0.0\n",
            "F1:  0.010356195314828091\n",
            "F2:  -0.008519206251373753\n",
            "**********************************************************\n",
            "weights:  0.95 0.050000000000000044\n",
            "F1:  0.010356195314828091\n",
            "F2:  -0.008519206251373753\n",
            "**********************************************************\n",
            "weights:  0.9 0.09999999999999998\n",
            "F1:  0.010356195314828091\n",
            "F2:  -0.008519206251373753\n",
            "**********************************************************\n",
            "weights:  0.85 0.15000000000000002\n",
            "F1:  0.013102974543312192\n",
            "F2:  -0.011517420637288198\n",
            "**********************************************************\n",
            "weights:  0.8 0.19999999999999996\n",
            "F1:  0.021703963651519\n",
            "F2:  -0.021049106721900628\n",
            "**********************************************************\n",
            "weights:  0.75 0.25\n",
            "F1:  0.04142478125931236\n",
            "F2:  -0.034076825005495005\n",
            "**********************************************************\n",
            "weights:  0.7 0.30000000000000004\n",
            "F1:  0.04142478125931236\n",
            "F2:  -0.034076825005495005\n",
            "**********************************************************\n",
            "weights:  0.6499999999999999 0.3500000000000001\n",
            "F1:  0.04142478125931235\n",
            "F2:  -0.034076825005495005\n",
            "**********************************************************\n",
            "weights:  0.6 0.4\n",
            "F1:  0.04142478125931236\n",
            "F2:  -0.034076825005495005\n",
            "**********************************************************\n",
            "weights:  0.55 0.44999999999999996\n",
            "F1:  0.04142478125931236\n",
            "F2:  -0.034076825005495005\n",
            "**********************************************************\n",
            "weights:  0.5 0.5\n",
            "F1:  0.04142478125931236\n",
            "F2:  -0.034076825005495005\n",
            "**********************************************************\n",
            "weights:  0.44999999999999996 0.55\n",
            "F1:  0.04142478125931229\n",
            "F2:  -0.03407682500549496\n",
            "**********************************************************\n",
            "weights:  0.3999999999999999 0.6000000000000001\n",
            "F1:  0.04142478125931234\n",
            "F2:  -0.03407682500549499\n",
            "**********************************************************\n",
            "weights:  0.35 0.65\n",
            "F1:  0.04142478125931235\n",
            "F2:  -0.034076825005495\n",
            "**********************************************************\n",
            "weights:  0.29999999999999993 0.7000000000000001\n",
            "F1:  0.04142478125931233\n",
            "F2:  -0.034076825005494984\n",
            "**********************************************************\n",
            "weights:  0.25 0.75\n",
            "F1:  0.04142478125931236\n",
            "F2:  -0.034076825005495005\n",
            "**********************************************************\n",
            "weights:  0.19999999999999996 0.8\n",
            "F1:  0.04142478125931236\n",
            "F2:  -0.034076825005495005\n",
            "**********************************************************\n",
            "weights:  0.1499999999999999 0.8500000000000001\n",
            "F1:  0.04142478125931236\n",
            "F2:  -0.034076825005495005\n",
            "**********************************************************\n",
            "weights:  0.09999999999999998 0.9\n",
            "F1:  0.04142478125931232\n",
            "F2:  -0.034076825005494984\n",
            "**********************************************************\n",
            "weights:  0.04999999999999993 0.9500000000000001\n",
            "F1:  0.04142478125931236\n",
            "F2:  -0.034076825005495005\n",
            "**********************************************************\n",
            "weights:  0.0 1.0\n",
            "F1:  0.04142478125931236\n",
            "F2:  -0.034076825005495005\n",
            "**********************************************************\n",
            "FEATURE SCALING\n",
            "weights:  1.0 0.0\n",
            "F1:  0.010356195314828098\n",
            "F2:  -0.008519206251373758\n",
            "**********************************************************\n",
            "weights:  0.95 0.050000000000000044\n",
            "F1:  0.01035619531482809\n",
            "F2:  -0.008519206251373751\n",
            "**********************************************************\n",
            "weights:  0.9 0.09999999999999998\n",
            "F1:  0.010356195314828091\n",
            "F2:  -0.008519206251373753\n",
            "**********************************************************\n",
            "weights:  0.85 0.15000000000000002\n",
            "F1:  0.010356195314828117\n",
            "F2:  -0.00851920625137377\n",
            "**********************************************************\n",
            "weights:  0.8 0.19999999999999996\n",
            "F1:  0.010356195314828103\n",
            "F2:  -0.008519206251373762\n",
            "**********************************************************\n",
            "weights:  0.75 0.25\n",
            "F1:  0.01035619531482809\n",
            "F2:  -0.008519206251373751\n",
            "**********************************************************\n",
            "weights:  0.7 0.30000000000000004\n",
            "F1:  0.01035619531482809\n",
            "F2:  -0.008519206251373751\n",
            "**********************************************************\n",
            "weights:  0.6499999999999999 0.3500000000000001\n",
            "F1:  0.01035619531482809\n",
            "F2:  -0.008519206251373751\n",
            "**********************************************************\n",
            "weights:  0.6 0.4\n",
            "F1:  0.01035619531482809\n",
            "F2:  -0.008519206251373751\n",
            "**********************************************************\n",
            "weights:  0.55 0.44999999999999996\n",
            "F1:  0.01035619531482809\n",
            "F2:  -0.008519206251373751\n",
            "**********************************************************\n",
            "weights:  0.5 0.5\n",
            "F1:  0.010356195314828103\n",
            "F2:  -0.008519206251373762\n",
            "**********************************************************\n",
            "weights:  0.44999999999999996 0.55\n",
            "F1:  0.010356195314828101\n",
            "F2:  -0.00851920625137376\n",
            "**********************************************************\n",
            "weights:  0.3999999999999999 0.6000000000000001\n",
            "F1:  0.01035619531482809\n",
            "F2:  -0.008519206251373751\n",
            "**********************************************************\n",
            "weights:  0.35 0.65\n",
            "F1:  0.01035619531482809\n",
            "F2:  -0.008519206251373751\n",
            "**********************************************************\n",
            "weights:  0.29999999999999993 0.7000000000000001\n",
            "F1:  0.01035619531482809\n",
            "F2:  -0.008519206251373751\n",
            "**********************************************************\n",
            "weights:  0.25 0.75\n",
            "F1:  0.010356195314828114\n",
            "F2:  -0.00851920625137377\n",
            "**********************************************************\n",
            "weights:  0.19999999999999996 0.8\n",
            "F1:  0.010356195314828115\n",
            "F2:  -0.008519206251373769\n",
            "**********************************************************\n",
            "weights:  0.1499999999999999 0.8500000000000001\n",
            "F1:  0.0103561953148281\n",
            "F2:  -0.00851920625137376\n",
            "**********************************************************\n",
            "weights:  0.09999999999999998 0.9\n",
            "F1:  0.013119293162691135\n",
            "F2:  -0.011535323189203393\n",
            "**********************************************************\n",
            "weights:  0.04999999999999993 0.9500000000000001\n",
            "F1:  0.04142478125931236\n",
            "F2:  -0.034076825005495005\n",
            "**********************************************************\n",
            "weights:  0.0 1.0\n",
            "F1:  0.04142478125931234\n",
            "F2:  -0.034076825005495005\n",
            "**********************************************************\n"
          ]
        }
      ]
    },
    {
      "cell_type": "code",
      "source": [
        "plt.figure(figsize=(20,10))\n",
        "plt.subplot(1,3,1)\n",
        "plt.scatter(X1, Y1)\n",
        "plt.grid()\n",
        "plt.subplot(1,3,2)\n",
        "plt.scatter(X2, Y2)\n",
        "plt.grid()\n",
        "plt.subplot(1,3,3)\n",
        "plt.scatter(X3, Y3)\n",
        "plt.grid()"
      ],
      "metadata": {
        "colab": {
          "base_uri": "https://localhost:8080/",
          "height": 571
        },
        "id": "q5idwly0v1Jk",
        "outputId": "290c9079-14e2-4ea9-9838-4a60d1697d51"
      },
      "execution_count": null,
      "outputs": [
        {
          "output_type": "display_data",
          "data": {
            "text/plain": [
              "<Figure size 2000x1000 with 3 Axes>"
            ],
            "image/png": "[encoded data removed]"
          },
          "metadata": {}
        }
      ]
    },
    {
      "cell_type": "markdown",
      "source": [
        "Solution using NBI optimization"
      ],
      "metadata": {
        "id": "Wc0QgeWpxm6t"
      }
    },
    {
      "cell_type": "code",
      "source": [
        "#finding the individual minima\n",
        "min_risk = minimize(objective1, X, method='SLSQP',bounds= bnds , constraints=constraints)\n",
        "max_return = minimize(objective2, X, method='SLSQP',bounds= bnds , constraints=constraints)\n",
        "\n",
        "print(\"Portfolio weights for minimum risk: \", min_risk.x)\n",
        "print(\"Minimum risk: \", objective1(min_risk.x))\n",
        "print(\"Portfolio weights for maximum return: \", max_return.x)\n",
        "print(\"Maximum return: \", math.fabs(objective2(max_return.x)))"
      ],
      "metadata": {
        "colab": {
          "base_uri": "https://localhost:8080/"
        },
        "id": "yu-5GMtCnivQ",
        "outputId": "5dca5ca8-cca9-46c6-f4b8-60e39c2817ee"
      },
      "execution_count": null,
      "outputs": [
        {
          "output_type": "stream",
          "name": "stdout",
          "text": [
            "Portfolio weights for minimum risk:  [0.2        0.55159629 0.24840371]\n",
            "Minimum risk:  0.01407330255971806\n",
            "Portfolio weights for maximum return:  [0.6 0.2 0.2]\n",
            "Maximum return:  0.017204351773769992\n"
          ]
        }
      ]
    },
    {
      "cell_type": "code",
      "source": [
        "#Determining the utopian points\n",
        "print(\"F1* = \", \"(\",objective1(min_risk.x), \",\", objective2(min_risk.x), \")\")\n",
        "print(\"F2* = \", \"(\",objective1(max_return.x), \",\", objective2(max_return.x), \")\")"
      ],
      "metadata": {
        "colab": {
          "base_uri": "https://localhost:8080/"
        },
        "id": "tcYLozOiqXC0",
        "outputId": "46045137-9b34-4f7d-a010-6f4f8cf031b6"
      },
      "execution_count": null,
      "outputs": [
        {
          "output_type": "stream",
          "name": "stdout",
          "text": [
            "F1* =  ( 0.01407330255971806 , -0.012588137432705662 )\n",
            "F2* =  ( 0.02350340705335698 , -0.017204351773769992 )\n"
          ]
        }
      ]
    },
    {
      "cell_type": "markdown",
      "source": [
        "## NBI Subproblem"
      ],
      "metadata": {
        "id": "ohb8KZ7GsCyr"
      }
    },
    {
      "cell_type": "code",
      "source": [
        "#Building the payoff matrix\n",
        "y1=objective2(min_risk.x) - objective2(max_return.x)\n",
        "y2=objective1(max_return.x) - objective1(min_risk.x)\n",
        "print(\"Payoff matrix\")\n",
        "print(\"[      0            \",y1)\n",
        "print(\"[\",y2, \"    0             ]\")"
      ],
      "metadata": {
        "colab": {
          "base_uri": "https://localhost:8080/"
        },
        "id": "HvR19FGyr6aD",
        "outputId": "671bdd0d-a690-41c5-b557-8ee0a5f36bad"
      },
      "execution_count": null,
      "outputs": [
        {
          "output_type": "stream",
          "name": "stdout",
          "text": [
            "Payoff matrix\n",
            "[      0             0.00461621434106433\n",
            "[ 0.00943010449363892     0             ]\n"
          ]
        }
      ]
    },
    {
      "cell_type": "markdown",
      "source": [
        "The CHIM simplex is a line and hence we require its slope for the optimization problem\n"
      ],
      "metadata": {
        "id": "eoc--ltsbLcz"
      }
    },
    {
      "cell_type": "code",
      "source": [
        "slope = (objective2(min_risk.x) - objective2(max_return.x))/(objective1(max_return.x)-objective1(min_risk.x))\n",
        "print(slope)"
      ],
      "metadata": {
        "colab": {
          "base_uri": "https://localhost:8080/"
        },
        "id": "ly2iMFJva53a",
        "outputId": "aa811c3c-30de-43a3-dff6-ec82ff492745"
      },
      "execution_count": null,
      "outputs": [
        {
          "output_type": "stream",
          "name": "stdout",
          "text": [
            "0.48951889601840565\n"
          ]
        }
      ]
    },
    {
      "cell_type": "code",
      "source": [
        "def main_nbi(x):\n",
        "  return -x[3]\n",
        "\n",
        "def nbi_con1(x):\n",
        "  global a\n",
        "  return (1-a)*y2 - x[3]*0.898 - sd_adani*x[0] + sd_sbi*x[1] + sd_eichermot*x[2] + objective1(min_risk.x)\n",
        "\n",
        "def nbi_con2(x):\n",
        "  global a\n",
        "  return y1*a - x[3]*0.4399 + -(avg_adani_return*x[0] + avg_sbi_return*x[1] + avg_eichermot_return*x[2]) + objective2(max_return.x)\n",
        "\n",
        "con1 = {'type': 'eq', 'fun': nbi_con1}\n",
        "con2 = {'type': 'eq', 'fun': nbi_con2}\n",
        "con3 = {'type': 'eq', 'fun': constraint1}\n",
        "con4 = {'type': 'ineq', 'fun': constraint2}\n",
        "constraints = [con1, con2, con3, con4]\n",
        "b = (0.2, 0.8)\n",
        "b2 = (-10e5, 10e5)\n",
        "bnds = (b, b, b, b2)\n",
        "\n",
        "X_nbi = []\n",
        "Y_nbi = []\n",
        "\n",
        "a = 1\n",
        "for i in range(0, 21):\n",
        "    a = 1 - (0.05 * i)\n",
        "    X = [0.3, 0.5, 0.2, 0.4]\n",
        "    print(i+1, \"----------------------------------------------------------\")\n",
        "    sol1 = minimize(main_nbi, X, method='SLSQP', bounds=bnds, constraints=constraints)\n",
        "    print(\"a1: \", a, \"a2: \", 1-a)\n",
        "    X_nbi.append(objective1(sol1.x))\n",
        "    Y_nbi.append(objective2(sol1.x))\n",
        "    print(\"Point on the cartesian plane: \", objective1(sol1.x), \", \", objective2(sol1.x))\n",
        "    print(\"Weights: \", sol1.x)\n"
      ],
      "metadata": {
        "colab": {
          "base_uri": "https://localhost:8080/"
        },
        "id": "2I_YLrNef_zC",
        "outputId": "64f0ab2b-1de5-491f-afc7-a1110a36859b"
      },
      "execution_count": null,
      "outputs": [
        {
          "output_type": "stream",
          "name": "stdout",
          "text": [
            "1 ----------------------------------------------------------\n",
            "a1:  1.0 a2:  0.0\n",
            "Point on the cartesian plane:  0.02350340708939744 ,  -0.017204351797578593\n",
            "Weights:  [0.6        0.2        0.2        0.35275422]\n",
            "2 ----------------------------------------------------------\n",
            "a1:  0.95 a2:  0.050000000000000044\n",
            "Point on the cartesian plane:  0.023503407281292795 ,  -0.017204351924346085\n",
            "Weights:  [0.60000001 0.2        0.2        0.35327665]\n",
            "3 ----------------------------------------------------------\n",
            "a1:  0.9 a2:  0.09999999999999998\n",
            "Point on the cartesian plane:  0.023503407255386202 ,  -0.017204351907234128\n",
            "Weights:  [0.60000001 0.2        0.2        0.35378423]\n",
            "4 ----------------------------------------------------------\n",
            "a1:  0.85 a2:  0.15000000000000002\n",
            "Point on the cartesian plane:  0.023503407072288988 ,  -0.01720435178628143\n",
            "Weights:  [0.6        0.2        0.2        0.35427759]\n",
            "5 ----------------------------------------------------------\n",
            "a1:  0.8 a2:  0.19999999999999996\n",
            "Point on the cartesian plane:  0.023503407067594025 ,  -0.017204351783175087\n",
            "Weights:  [0.6        0.2        0.2        0.35475732]\n",
            "6 ----------------------------------------------------------\n",
            "a1:  0.75 a2:  0.25\n",
            "Point on the cartesian plane:  0.02350340707806323 ,  -0.017204351790091124\n",
            "Weights:  [0.6        0.2        0.2        0.35522398]\n",
            "7 ----------------------------------------------------------\n",
            "a1:  0.7 a2:  0.30000000000000004\n",
            "Point on the cartesian plane:  0.023503407161408026 ,  -0.01720435184514931\n",
            "Weights:  [0.6        0.2        0.2        0.35567809]\n",
            "8 ----------------------------------------------------------\n",
            "a1:  0.6499999999999999 a2:  0.3500000000000001\n",
            "Point on the cartesian plane:  0.023503407106901783 ,  -0.01720435180914209\n",
            "Weights:  [0.6        0.2        0.2        0.35612015]\n",
            "9 ----------------------------------------------------------\n",
            "a1:  0.6 a2:  0.4\n",
            "Point on the cartesian plane:  0.023503407153411638 ,  -0.01720435184013745\n",
            "Weights:  [0.6        0.2        0.2        0.35655063]\n",
            "10 ----------------------------------------------------------\n",
            "a1:  0.55 a2:  0.44999999999999996\n",
            "Point on the cartesian plane:  0.023503407638954536 ,  -0.01720435216062008\n",
            "Weights:  [0.60000002 0.2        0.2        0.35696999]\n",
            "11 ----------------------------------------------------------\n",
            "a1:  0.5 a2:  0.5\n",
            "Point on the cartesian plane:  0.02350340705663982 ,  -0.01720435177593871\n",
            "Weights:  [0.6        0.2        0.2        0.35737866]\n",
            "12 ----------------------------------------------------------\n",
            "a1:  0.44999999999999996 a2:  0.55\n",
            "Point on the cartesian plane:  0.023503407056117698 ,  -0.01720435177559374\n",
            "Weights:  [0.6        0.2        0.2        0.35777702]\n",
            "13 ----------------------------------------------------------\n",
            "a1:  0.3999999999999999 a2:  0.6000000000000001\n",
            "Point on the cartesian plane:  0.023503407124338658 ,  -0.017204351820661018\n",
            "Weights:  [0.6        0.2        0.2        0.35816547]\n",
            "14 ----------------------------------------------------------\n",
            "a1:  0.35 a2:  0.65\n",
            "Point on the cartesian plane:  0.02350340708076836 ,  -0.017204351791878153\n",
            "Weights:  [0.6        0.2        0.2        0.35854438]\n",
            "15 ----------------------------------------------------------\n",
            "a1:  0.29999999999999993 a2:  0.7000000000000001\n",
            "Point on the cartesian plane:  0.023503407165152864 ,  -0.01720435184762318\n",
            "Weights:  [0.6        0.2        0.2        0.35891409]\n",
            "16 ----------------------------------------------------------\n",
            "a1:  0.25 a2:  0.75\n",
            "Point on the cartesian plane:  0.023503407070955665 ,  -0.01720435178542177\n",
            "Weights:  [0.6        0.2        0.2        0.35927493]\n",
            "17 ----------------------------------------------------------\n",
            "a1:  0.19999999999999996 a2:  0.8\n",
            "Point on the cartesian plane:  0.023503407527004003 ,  -0.017204352086664848\n",
            "Weights:  [0.60000001 0.2        0.2        0.35962722]\n",
            "18 ----------------------------------------------------------\n",
            "a1:  0.1499999999999999 a2:  0.8500000000000001\n",
            "Point on the cartesian plane:  0.023503407056253135 ,  -0.017204351775683212\n",
            "Weights:  [0.6        0.2        0.2        0.35997126]\n",
            "19 ----------------------------------------------------------\n",
            "a1:  0.09999999999999998 a2:  0.9\n",
            "Point on the cartesian plane:  0.023503407065451513 ,  -0.017204351781761714\n",
            "Weights:  [0.6        0.2        0.2        0.36030733]\n",
            "20 ----------------------------------------------------------\n",
            "a1:  0.04999999999999993 a2:  0.9500000000000001\n",
            "Point on the cartesian plane:  0.023503407071285627 ,  -0.017204351785645958\n",
            "Weights:  [0.6        0.2        0.2        0.36063571]\n",
            "21 ----------------------------------------------------------\n",
            "a1:  0.0 a2:  1.0\n",
            "Point on the cartesian plane:  0.023503407097119098 ,  -0.017204351802679575\n",
            "Weights:  [0.6        0.2        0.2        0.36095666]\n"
          ]
        }
      ]
    },
    {
      "cell_type": "code",
      "source": [
        "plt.figure(figsize=(5,5))\n",
        "plt.scatter(X_nbi, Y_nbi)\n",
        "plt.grid()"
      ],
      "metadata": {
        "id": "DjFEFw-YhQsx",
        "colab": {
          "base_uri": "https://localhost:8080/",
          "height": 479
        },
        "outputId": "1cd6fd8b-8a0f-4090-891f-70cb6e6de603"
      },
      "execution_count": null,
      "outputs": [
        {
          "output_type": "display_data",
          "data": {
            "text/plain": [
              "<Figure size 500x500 with 1 Axes>"
            ],
            "image/png": "[encoded data removed]"
          },
          "metadata": {}
        }
      ]
    },
    {
      "cell_type": "code",
      "source": [
        "print(X_nbi)"
      ],
      "metadata": {
        "colab": {
          "base_uri": "https://localhost:8080/"
        },
        "id": "_WQ1XHoL0N-l",
        "outputId": "11a71771-f038-456f-aef3-5d65788482e8"
      },
      "execution_count": null,
      "outputs": [
        {
          "output_type": "stream",
          "name": "stdout",
          "text": [
            "[0.02350340708939744, 0.023503407281292795, 0.023503407255386202, 0.023503407072288988, 0.023503407067594025, 0.02350340707806323, 0.023503407161408026, 0.023503407106901783, 0.023503407153411638, 0.023503407638954536, 0.02350340705663982, 0.023503407056117698, 0.023503407124338658, 0.02350340708076836, 0.023503407165152864, 0.023503407070955665, 0.023503407527004003, 0.023503407056253135, 0.023503407065451513, 0.023503407071285627, 0.023503407097119098]\n"
          ]
        }
      ]
    },
    {
      "cell_type": "code",
      "source": [
        "print(Y_nbi)"
      ],
      "metadata": {
        "colab": {
          "base_uri": "https://localhost:8080/"
        },
        "id": "fLgf6BtO0V7L",
        "outputId": "f90c07e5-9c87-453b-f086-972fcba666c3"
      },
      "execution_count": null,
      "outputs": [
        {
          "output_type": "stream",
          "name": "stdout",
          "text": [
            "[-0.017204351797578593, -0.017204351924346085, -0.017204351907234128, -0.01720435178628143, -0.017204351783175087, -0.017204351790091124, -0.01720435184514931, -0.01720435180914209, -0.01720435184013745, -0.01720435216062008, -0.01720435177593871, -0.01720435177559374, -0.017204351820661018, -0.017204351791878153, -0.01720435184762318, -0.01720435178542177, -0.017204352086664848, -0.017204351775683212, -0.017204351781761714, -0.017204351785645958, -0.017204351802679575]\n"
          ]
        }
      ]
    },
    {
      "cell_type": "markdown",
      "source": [
        "Printing the risks and returns"
      ],
      "metadata": {
        "id": "5hztwCfJzny0"
      }
    },
    {
      "cell_type": "code",
      "source": [
        "print(\"RISK                  RETURN\")\n",
        "for i in range(0, len(X_nbi)):\n",
        "  print(X_nbi[i],\"     \",Y_nbi[i]*(-1))"
      ],
      "metadata": {
        "colab": {
          "base_uri": "https://localhost:8080/"
        },
        "id": "XSe9vptnzaMh",
        "outputId": "b4bac5c3-fcdc-4143-b827-15ed7fa4ff66"
      },
      "execution_count": null,
      "outputs": [
        {
          "output_type": "stream",
          "name": "stdout",
          "text": [
            "RISK                  RETURN\n",
            "0.02350340708939744       0.017204351797578593\n",
            "0.023503407281292795       0.017204351924346085\n",
            "0.023503407255386202       0.017204351907234128\n",
            "0.023503407072288988       0.01720435178628143\n",
            "0.023503407067594025       0.017204351783175087\n",
            "0.02350340707806323       0.017204351790091124\n",
            "0.023503407161408026       0.01720435184514931\n",
            "0.023503407106901783       0.01720435180914209\n",
            "0.023503407153411638       0.01720435184013745\n",
            "0.023503407638954536       0.01720435216062008\n",
            "0.02350340705663982       0.01720435177593871\n",
            "0.023503407056117698       0.01720435177559374\n",
            "0.023503407124338658       0.017204351820661018\n",
            "0.02350340708076836       0.017204351791878153\n",
            "0.023503407165152864       0.01720435184762318\n",
            "0.023503407070955665       0.01720435178542177\n",
            "0.023503407527004003       0.017204352086664848\n",
            "0.023503407056253135       0.017204351775683212\n",
            "0.023503407065451513       0.017204351781761714\n",
            "0.023503407071285627       0.017204351785645958\n",
            "0.023503407097119098       0.017204351802679575\n"
          ]
        }
      ]
    },
    {
      "cell_type": "markdown",
      "source": [
        "From the above, we can conclude that there is very little variation in the risk and return. For the optimal portfolio selection, the risk is 0.0235 and the return is 0.0172"
      ],
      "metadata": {
        "id": "HTPi16TY04Ht"
      }
    },
    {
      "cell_type": "code",
      "source": [],
      "metadata": {
        "id": "awjNobuI0FNi"
      },
      "execution_count": null,
      "outputs": []
    }
  ]
}