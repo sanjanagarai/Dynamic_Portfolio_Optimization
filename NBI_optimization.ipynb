{
  "cells": [
    {
      "cell_type": "markdown",
      "metadata": {
        "id": "view-in-github",
        "colab_type": "text"
      },
      "source": [
        "<a href=\"https://colab.research.google.com/github/sanjanagarai/Dynamic_Portfolio_Optimization/blob/main/NBI_optimization.ipynb\" target=\"_parent\"><img src=\"https://colab.research.google.com/assets/colab-badge.svg\" alt=\"Open In Colab\"/></a>"
      ]
    },
    {
      "cell_type": "code",
      "execution_count": null,
      "id": "42bc4aab",
      "metadata": {
        "id": "42bc4aab"
      },
      "outputs": [],
      "source": [
        "import numpy as np\n",
        "from scipy.optimize import minimize\n",
        "import pandas as pd\n",
        "import matplotlib.pyplot as plt"
      ]
    },
    {
      "cell_type": "code",
      "execution_count": null,
      "id": "dc1dec1a",
      "metadata": {
        "id": "dc1dec1a",
        "outputId": "a588f31a-d226-4520-af70-e30a744e594b"
      },
      "outputs": [
        {
          "name": "stdout",
          "output_type": "stream",
          "text": [
            " message: Optimization terminated successfully\n",
            " success: True\n",
            "  status: 0\n",
            "     fun: 0.5550807467112996\n",
            "       x: [ 3.279e-01  5.293e-01 -2.672e-01 -1.311e-01 -2.808e-01]\n",
            "     nit: 7\n",
            "     jac: [ 6.558e-01  1.059e+00 -5.343e-01 -2.621e-01 -5.617e-01]\n",
            "    nfev: 44\n",
            "    njev: 7\n",
            "weights:  1.0 0.0\n",
            "0.5550807467112996\n",
            "F2:  2.131300748002664\n",
            "**********************************************************\n",
            " message: Optimization terminated successfully\n",
            " success: True\n",
            "  status: 0\n",
            "     fun: 0.6324236795583982\n",
            "       x: [ 3.195e-01  5.106e-01 -2.776e-01 -1.388e-01 -3.123e-01]\n",
            "     nit: 6\n",
            "     jac: [ 7.570e-01  1.070e+00 -5.442e-01 -2.636e-01 -5.934e-01]\n",
            "    nfev: 36\n",
            "    njev: 6\n",
            "weights:  0.95 0.050000000000000044\n",
            "0.5566442431295089\n",
            "F2:  2.0722329717072925\n",
            "**********************************************************\n",
            " message: Optimization terminated successfully\n",
            " success: True\n",
            "  status: 0\n",
            "     fun: 0.7064570458664083\n",
            "       x: [ 3.097e-01  4.898e-01 -2.892e-01 -1.472e-01 -3.478e-01]\n",
            "     nit: 6\n",
            "     jac: [ 8.575e-01  1.082e+00 -5.539e-01 -2.648e-01 -6.262e-01]\n",
            "    nfev: 36\n",
            "    njev: 6\n",
            "weights:  0.9 0.09999999999999998\n",
            "0.5621451749771418\n",
            "F2:  2.005263883869807\n",
            "**********************************************************\n",
            " message: Optimization terminated successfully\n",
            " success: True\n",
            "  status: 0\n",
            "     fun: 0.7765071228468292\n",
            "       x: [ 2.983e-01  4.667e-01 -3.018e-01 -1.562e-01 -3.883e-01]\n",
            "     nit: 6\n",
            "     jac: [ 9.571e-01  1.093e+00 -5.631e-01 -2.653e-01 -6.604e-01]\n",
            "    nfev: 37\n",
            "    njev: 6\n",
            "weights:  0.85 0.15000000000000002\n",
            "0.5731146779274964\n",
            "F2:  1.9290643107230485\n",
            "**********************************************************\n",
            " message: Optimization terminated successfully\n",
            " success: True\n",
            "  status: 0\n",
            "     fun: 0.8417052324347186\n",
            "       x: [ 2.847e-01  4.402e-01 -3.163e-01 -1.670e-01 -4.351e-01]\n",
            "     nit: 6\n",
            "     jac: [ 1.056e+00  1.104e+00 -5.727e-01 -2.667e-01 -6.966e-01]\n",
            "    nfev: 36\n",
            "    njev: 6\n",
            "weights:  0.8 0.19999999999999996\n",
            "0.5920774332655312\n",
            "F2:  1.8402164291114684\n",
            "**********************************************************\n",
            " message: Optimization terminated successfully\n",
            " success: True\n",
            "  status: 0\n",
            "     fun: 0.9009093883178785\n",
            "       x: [ 2.684e-01  4.103e-01 -3.322e-01 -1.785e-01 -4.895e-01]\n",
            "     nit: 6\n",
            "     jac: [ 1.153e+00  1.115e+00 -5.819e-01 -2.675e-01 -7.348e-01]\n",
            "    nfev: 37\n",
            "    njev: 6\n",
            "weights:  0.75 0.25\n",
            "0.6222219479612534\n",
            "F2:  1.736971709387754\n",
            "**********************************************************\n",
            " message: Optimization terminated successfully\n",
            " success: True\n",
            "  status: 0\n",
            "     fun: 0.9525923261134077\n",
            "       x: [ 2.485e-01  3.758e-01 -3.504e-01 -1.921e-01 -5.533e-01]\n",
            "     nit: 6\n",
            "     jac: [ 1.248e+00  1.126e+00 -5.908e-01 -2.684e-01 -7.757e-01]\n",
            "    nfev: 37\n",
            "    njev: 6\n",
            "weights:  0.7 0.30000000000000004\n",
            "0.668887958279728\n",
            "F2:  1.6145691843919934\n",
            "**********************************************************\n",
            " message: Optimization terminated successfully\n",
            " success: True\n",
            "  status: 0\n",
            "     fun: 0.9946619623132975\n",
            "       x: [ 2.238e-01  3.358e-01 -3.712e-01 -2.081e-01 -6.294e-01]\n",
            "     nit: 7\n",
            "     jac: [ 1.341e+00  1.137e+00 -5.992e-01 -2.687e-01 -8.201e-01]\n",
            "    nfev: 42\n",
            "    njev: 7\n",
            "weights:  0.6499999999999999 0.3500000000000001\n",
            "0.7400407348736846\n",
            "F2:  1.4675299561297213\n",
            "**********************************************************\n",
            " message: Optimization terminated successfully\n",
            " success: True\n",
            "  status: 0\n",
            "     fun: 1.0241800630723779\n",
            "       x: [ 1.924e-01  2.888e-01 -3.952e-01 -2.270e-01 -7.213e-01]\n",
            "     nit: 6\n",
            "     jac: [ 1.431e+00  1.146e+00 -6.077e-01 -2.696e-01 -8.684e-01]\n",
            "    nfev: 37\n",
            "    njev: 6\n",
            "weights:  0.6 0.4\n",
            "0.8484412992355554\n",
            "F2:  1.2877882088276116\n",
            "**********************************************************\n",
            " message: Optimization terminated successfully\n",
            " success: True\n",
            "  status: 0\n",
            "     fun: 1.036895309945702\n",
            "       x: [ 1.516e-01  2.329e-01 -4.233e-01 -2.499e-01 -8.343e-01]\n",
            "     nit: 6\n",
            "     jac: [ 1.517e+00  1.156e+00 -6.157e-01 -2.703e-01 -9.224e-01]\n",
            "    nfev: 36\n",
            "    njev: 6\n",
            "weights:  0.55 0.44999999999999996\n",
            "1.0150229520977387\n",
            "F2:  1.063628191759879\n",
            "**********************************************************\n",
            " message: Optimization terminated successfully\n",
            " success: True\n",
            "  status: 0\n",
            "     fun: 1.0264409569719593\n",
            "       x: [ 9.675e-02  1.656e-01 -4.567e-01 -2.784e-01 -9.762e-01]\n",
            "     nit: 6\n",
            "     jac: [ 1.597e+00  1.166e+00 -6.233e-01 -2.711e-01 -9.835e-01]\n",
            "    nfev: 36\n",
            "    njev: 6\n",
            "weights:  0.5 0.5\n",
            "1.2758968095583394\n",
            "F2:  0.7769851043855791\n",
            "**********************************************************\n",
            " message: Optimization terminated successfully\n",
            " success: True\n",
            "  status: 0\n",
            "     fun: 0.9828939367478657\n",
            "       x: [ 2.064e-02  8.321e-02 -4.971e-01 -3.154e-01 -1.158e+00]\n",
            "     nit: 6\n",
            "     jac: [ 1.669e+00  1.175e+00 -6.307e-01 -2.721e-01 -1.054e+00]\n",
            "    nfev: 37\n",
            "    njev: 6\n",
            "weights:  0.44999999999999996 0.55\n",
            "1.6953017162865447\n",
            "F2:  0.40001484439803753\n",
            "**********************************************************\n",
            " message: Optimization terminated successfully\n",
            " success: True\n",
            "  status: 0\n",
            "     fun: 0.890060346136471\n",
            "       x: [-8.936e-02 -1.913e-02 -5.473e-01 -3.657e-01 -1.397e+00]\n",
            "     nit: 7\n",
            "     jac: [ 1.729e+00  1.185e+00 -6.379e-01 -2.734e-01 -1.137e+00]\n",
            "    nfev: 42\n",
            "    njev: 7\n",
            "weights:  0.3999999999999999 0.6000000000000001\n",
            "2.394527221378958\n",
            "F2:  -0.11291757069185324\n",
            "**********************************************************\n",
            " message: Optimization terminated successfully\n",
            " success: True\n",
            "  status: 0\n",
            "     fun: 0.7200886614849762\n",
            "       x: [-2.557e-01 -1.481e-01 -6.120e-01 -4.393e-01 -1.720e+00]\n",
            "     nit: 7\n",
            "     jac: [ 1.771e+00  1.196e+00 -6.455e-01 -2.751e-01 -1.236e+00]\n",
            "    nfev: 43\n",
            "    njev: 7\n",
            "weights:  0.35 0.65\n",
            "3.6144090669521165\n",
            "F2:  -0.838391556843484\n",
            "**********************************************************\n",
            " message: Optimization terminated successfully\n",
            " success: True\n",
            "  status: 0\n",
            "     fun: 0.42217995777133943\n",
            "       x: [-5.199e-01 -3.128e-01 -7.001e-01 -5.565e-01 -2.167e+00]\n",
            "     nit: 8\n",
            "     jac: [ 1.788e+00  1.212e+00 -6.537e-01 -2.786e-01 -1.355e+00]\n",
            "    nfev: 49\n",
            "    njev: 8\n",
            "weights:  0.29999999999999993 0.7000000000000001\n",
            "5.864472084707339\n",
            "F2:  -1.9102309537726598\n",
            "**********************************************************\n",
            " message: Optimization terminated successfully\n",
            " success: True\n",
            "  status: 0\n",
            "     fun: -0.10221059358005169\n",
            "       x: [-9.336e-01 -5.123e-01 -8.223e-01 -7.470e-01 -2.763e+00]\n",
            "     nit: 9\n",
            "     jac: [ 1.783e+00  1.244e+00 -6.611e-01 -2.821e-01 -1.473e+00]\n",
            "    nfev: 55\n",
            "    njev: 9\n",
            "weights:  0.25 0.75\n",
            "10.000000005563404\n",
            "F2:  -3.4696141266278704\n",
            "**********************************************************\n",
            " message: Optimization terminated successfully\n",
            " success: True\n",
            "  status: 0\n",
            "     fun: -0.7756913409769548\n",
            "       x: [-9.336e-01 -5.123e-01 -8.222e-01 -7.470e-01 -2.763e+00]\n",
            "     nit: 10\n",
            "     jac: [ 2.027e+00  1.395e+00 -5.956e-01 -2.013e-01 -1.203e+00]\n",
            "    nfev: 61\n",
            "    njev: 10\n",
            "weights:  0.19999999999999996 0.8\n",
            "10.000000655828813\n",
            "F2:  -3.469614340178396\n",
            "**********************************************************\n",
            " message: Optimization terminated successfully\n",
            " success: True\n",
            "  status: 0\n",
            "     fun: -1.4491720061745745\n",
            "       x: [-9.336e-01 -5.123e-01 -8.223e-01 -7.470e-01 -2.763e+00]\n",
            "     nit: 10\n",
            "     jac: [ 2.270e+00  1.546e+00 -5.300e-01 -1.205e-01 -9.324e-01]\n",
            "    nfev: 62\n",
            "    njev: 10\n",
            "weights:  0.1499999999999999 0.8500000000000001\n",
            "10.000000000000155\n",
            "F2:  -3.46961412491129\n",
            "**********************************************************\n",
            " message: Optimization terminated successfully\n",
            " success: True\n",
            "  status: 0\n",
            "     fun: -2.122652730296693\n",
            "       x: [-9.336e-01 -5.123e-01 -8.222e-01 -7.470e-01 -2.763e+00]\n",
            "     nit: 12\n",
            "     jac: [ 2.513e+00  1.698e+00 -4.644e-01 -3.971e-02 -6.622e-01]\n",
            "    nfev: 73\n",
            "    njev: 12\n",
            "weights:  0.09999999999999998 0.9\n",
            "10.00000008956176\n",
            "F2:  -3.4696141547254093\n",
            "**********************************************************\n",
            " message: Optimization terminated successfully\n",
            " success: True\n",
            "  status: 0\n",
            "     fun: -2.79613342138354\n",
            "       x: [-9.336e-01 -5.123e-01 -8.223e-01 -7.470e-01 -2.763e+00]\n",
            "     nit: 11\n",
            "     jac: [ 2.757e+00  1.849e+00 -3.989e-01  4.108e-02 -3.920e-01]\n",
            "    nfev: 67\n",
            "    njev: 11\n",
            "weights:  0.04999999999999993 0.9500000000000001\n",
            "10.000000010619967\n",
            "F2:  -3.469614128331092\n",
            "**********************************************************\n",
            " message: Optimization terminated successfully\n",
            " success: True\n",
            "  status: 0\n",
            "     fun: -3.469614183933577\n",
            "       x: [-9.336e-01 -5.123e-01 -8.223e-01 -7.470e-01 -2.763e+00]\n",
            "     nit: 12\n",
            "     jac: [ 3.000e+00  2.000e+00 -3.333e-01  1.219e-01 -1.219e-01]\n",
            "    nfev: 72\n",
            "    njev: 12\n",
            "weights:  0.0 1.0\n",
            "10.000000182169828\n",
            "F2:  -3.469614183933577\n",
            "**********************************************************\n",
            "FEATURE SCALING\n",
            "weights:  1.0 0.0\n",
            "F1:  0.55508074954505\n",
            "F2:  2.131266642655766\n",
            "**********************************************************\n",
            "weights:  0.95 0.050000000000000044\n",
            "F1:  0.5551396725531259\n",
            "F2:  2.1198719537178303\n",
            "**********************************************************\n",
            "weights:  0.9 0.09999999999999998\n",
            "F1:  0.5553520864431281\n",
            "F2:  2.1067447769038394\n",
            "**********************************************************\n",
            "weights:  0.85 0.15000000000000002\n",
            "F1:  0.5557725280525043\n",
            "F2:  2.0920555426842444\n",
            "**********************************************************\n",
            "weights:  0.8 0.19999999999999996\n",
            "F1:  0.5564745765970047\n",
            "F2:  2.075540254071279\n",
            "**********************************************************\n",
            "weights:  0.75 0.25\n",
            "F1:  0.5575739027345711\n",
            "F2:  2.05664388249063\n",
            "**********************************************************\n",
            "weights:  0.7 0.30000000000000004\n",
            "F1:  0.5592359086289219\n",
            "F2:  2.0347996280228333\n",
            "**********************************************************\n",
            "weights:  0.6499999999999999 0.3500000000000001\n",
            "F1:  0.5616914323752457\n",
            "F2:  2.009406200266809\n",
            "**********************************************************\n",
            "weights:  0.6 0.4\n",
            "F1:  0.5652838629134918\n",
            "F2:  1.979610955761716\n",
            "**********************************************************\n",
            "weights:  0.55 0.44999999999999996\n",
            "F1:  0.5705676559454875\n",
            "F2:  1.9440448511462691\n",
            "**********************************************************\n",
            "weights:  0.5 0.5\n",
            "F1:  0.5784300742994213\n",
            "F2:  1.900821873400589\n",
            "**********************************************************\n",
            "weights:  0.44999999999999996 0.55\n",
            "F1:  0.5903589622461435\n",
            "F2:  1.8471638709603349\n",
            "**********************************************************\n",
            "weights:  0.3999999999999999 0.6000000000000001\n",
            "F1:  0.6089861470554073\n",
            "F2:  1.7787641164938137\n",
            "**********************************************************\n",
            "weights:  0.35 0.65\n",
            "F1:  0.6392826850667481\n",
            "F2:  1.6885630281486355\n",
            "**********************************************************\n",
            "weights:  0.29999999999999993 0.7000000000000001\n",
            "F1:  0.6913888803321251\n",
            "F2:  1.5643061387194312\n",
            "**********************************************************\n",
            "weights:  0.25 0.75\n",
            "F1:  0.7885308122970487\n",
            "F2:  1.3823623867472408\n",
            "**********************************************************\n",
            "weights:  0.19999999999999996 0.8\n",
            "F1:  0.9928958752349235\n",
            "F2:  1.0909744207938612\n",
            "**********************************************************\n",
            "weights:  0.1499999999999999 0.8500000000000001\n",
            "F1:  1.51357906283685\n",
            "F2:  0.5542745346552778\n",
            "**********************************************************\n",
            "weights:  0.09999999999999998 0.9\n",
            "F1:  3.3935648863587335\n",
            "F2:  -0.7176195768798341\n",
            "**********************************************************\n",
            "weights:  0.04999999999999993 0.9500000000000001\n",
            "F1:  10.000000000681794\n",
            "F2:  -3.469614125126732\n",
            "**********************************************************\n",
            "weights:  0.0 1.0\n",
            "F1:  10.000000182169828\n",
            "F2:  -3.469614183933577\n",
            "**********************************************************\n",
            "FEATURE SCALING\n",
            "weights:  1.0 0.0\n",
            "F1:  0.555080751695242\n",
            "F2:  2.131234846485266\n",
            "**********************************************************\n",
            "weights:  0.95 0.050000000000000044\n",
            "F1:  0.5550965300660269\n",
            "F2:  2.1253871705607517\n",
            "**********************************************************\n",
            "weights:  0.9 0.09999999999999998\n",
            "F1:  0.5551503885412653\n",
            "F2:  2.1188701721041405\n",
            "**********************************************************\n",
            "weights:  0.85 0.15000000000000002\n",
            "F1:  0.5552560198163173\n",
            "F2:  2.1115701489250616\n",
            "**********************************************************\n",
            "weights:  0.8 0.19999999999999996\n",
            "F1:  0.5554323207518204\n",
            "F2:  2.103341994594634\n",
            "**********************************************************\n",
            "weights:  0.75 0.25\n",
            "F1:  0.5557059048683279\n",
            "F2:  2.09399724630739\n",
            "**********************************************************\n",
            "weights:  0.7 0.30000000000000004\n",
            "F1:  0.5561150120715899\n",
            "F2:  2.083289309073192\n",
            "**********************************************************\n",
            "weights:  0.6499999999999999 0.3500000000000001\n",
            "F1:  0.5567157424998667\n",
            "F2:  2.070892015980008\n",
            "**********************************************************\n",
            "weights:  0.6 0.4\n",
            "F1:  0.5575923680017665\n",
            "F2:  2.056366350132651\n",
            "**********************************************************\n",
            "weights:  0.55 0.44999999999999996\n",
            "F1:  0.5588744191135935\n",
            "F2:  2.0391154329172947\n",
            "**********************************************************\n",
            "weights:  0.5 0.5\n",
            "F1:  0.5607702331791915\n",
            "F2:  2.0182738550707606\n",
            "**********************************************************\n",
            "weights:  0.44999999999999996 0.55\n",
            "F1:  0.5636026611602571\n",
            "F2:  1.9927728811922059\n",
            "**********************************************************\n",
            "weights:  0.3999999999999999 0.6000000000000001\n",
            "F1:  0.5680262666537454\n",
            "F2:  1.9602518568607057\n",
            "**********************************************************\n",
            "weights:  0.35 0.65\n",
            "F1:  0.5751129366219725\n",
            "F2:  1.918023369285897\n",
            "**********************************************************\n",
            "weights:  0.29999999999999993 0.7000000000000001\n",
            "F1:  0.587127396431776\n",
            "F2:  1.8606906918640869\n",
            "**********************************************************\n",
            "weights:  0.25 0.75\n",
            "F1:  0.6089951182356516\n",
            "F2:  1.7787342306177087\n",
            "**********************************************************\n",
            "weights:  0.19999999999999996 0.8\n",
            "F1:  0.6534775031791591\n",
            "F2:  1.651764388894367\n",
            "**********************************************************\n",
            "weights:  0.1499999999999999 0.8500000000000001\n",
            "F1:  0.761473735528315\n",
            "F2:  1.4287430707790456\n",
            "**********************************************************\n",
            "weights:  0.09999999999999998 0.9\n",
            "F1:  1.1240048266758107\n",
            "F2:  0.9368086668304075\n",
            "**********************************************************\n",
            "weights:  0.04999999999999993 0.9500000000000001\n",
            "F1:  3.7871091117397335\n",
            "F2:  -0.9303231770966207\n",
            "**********************************************************\n",
            "weights:  0.0 1.0\n",
            "F1:  10.000000182169828\n",
            "F2:  -3.469614183933577\n",
            "**********************************************************\n"
          ]
        },
        {
          "data": {
            "image/png": "[encoded data removed]",
            "text/plain": [
              "<Figure size 1800x500 with 2 Axes>"
            ]
          },
          "metadata": {},
          "output_type": "display_data"
        }
      ],
      "source": [
        "#SOLUTION USING CONVEX OPTIMIZATION\n",
        "\n",
        "def objective2(x):\n",
        "    global a1, a2\n",
        "    return (a1*(x[0]**2 + x[1]**2 + x[2]**2 + x[3]**2 + x[4]**2)) + a2*(3*x[0] + 2*x[1] - x[2]/3 + 0.01*(x[3]-x[4])**3)\n",
        "\n",
        "def objective5(x):\n",
        "    global a1, a2\n",
        "    return (5*a1*(x[0]**2 + x[1]**2 + x[2]**2 + x[3]**2 + x[4]**2)) + a2*(3*x[0] + 2*x[1] - x[2]/3 + 0.01*(x[3]-x[4])**3)\n",
        "\n",
        "def objective6(x):\n",
        "    global a1, a2\n",
        "    return (10*a1*(x[0]**2 + x[1]**2 + x[2]**2 + x[3]**2 + x[4]**2)) + a2*(3*x[0] + 2*x[1] - x[2]/3 + 0.01*(x[3]-x[4])**3)\n",
        "\n",
        "def objective3(x):\n",
        "    return x[0]**2 + x[1]**2 + x[2]**2 + x[3]**2 + x[4]**2\n",
        "\n",
        "def objective4(x):\n",
        "    return 3*x[0] + 2*x[1] - x[2]/3 + 0.01*(x[3]-x[4])**3\n",
        "\n",
        "def constraint3(x):\n",
        "    return (2 - x[0]-2*x[1]+x[2]+0.5*x[3]+x[4])\n",
        "\n",
        "def constraint4(x):\n",
        "    return (4*x[0] - 2*x[1] + 0.8*x[2] + 0.6*x[3] + 0.5*x[4]**2)\n",
        "\n",
        "def constraint5(x):\n",
        "    sum_sq=10\n",
        "    for i in range(5):\n",
        "        sum_sq-=x[i]**2\n",
        "    return sum_sq\n",
        "\n",
        "con3 = {'type': 'eq', 'fun':constraint3}\n",
        "con4 = {'type': 'eq', 'fun':constraint4}\n",
        "con5 = {'type': 'ineq', 'fun':constraint5}\n",
        "cons2 = [con3, con4, con5]\n",
        "\n",
        "X1=[]\n",
        "Y1=[]\n",
        "for i in range(21):\n",
        "    a1=1-(0.05*i)\n",
        "    a2=1-a1\n",
        "    x1=[1,2,3,4,5]\n",
        "    b=(-4, 4)\n",
        "    bnds = (b,b,b,b,b)\n",
        "    sol1 = minimize(objective2, x1, method='SLSQP',bounds= bnds , constraints=cons2)\n",
        "    print(sol1)\n",
        "    print(\"weights: \", a1, a2)\n",
        "    X1.append(objective3(sol1.x))\n",
        "    print(objective3(sol1.x))\n",
        "    print(\"F2: \", objective4(sol1.x))\n",
        "    Y1.append(objective4(sol1.x))\n",
        "    print(\"**********************************************************\")\n",
        "\n",
        "X2=[]\n",
        "Y2=[]\n",
        "print(\"FEATURE SCALING\")\n",
        "\n",
        "for i in range(21):\n",
        "    a1=1-(0.05*i)\n",
        "    a2=1-a1\n",
        "    x1=[1,2,3,4,5]\n",
        "    b=(-4, 4)\n",
        "    bnds = (b,b,b,b,b)\n",
        "    sol1 = minimize(objective5, x1, method='SLSQP',bounds= bnds , constraints=cons2)\n",
        "    print(\"weights: \", a1, a2)\n",
        "    print(\"F1: \", objective3(sol1.x))\n",
        "    X2.append(objective3(sol1.x))\n",
        "    print(\"F2: \", objective4(sol1.x))\n",
        "    Y2.append(objective4(sol1.x))\n",
        "    print(\"**********************************************************\")\n",
        "\n",
        "X3=[]\n",
        "Y3=[]\n",
        "print(\"FEATURE SCALING\")\n",
        "\n",
        "for i in range(21):\n",
        "    a1=1-(0.05*i)\n",
        "    a2=1-a1\n",
        "    x1=[1,2,3,4,5]\n",
        "    b=(-4, 4)\n",
        "    bnds = (b,b,b,b,b)\n",
        "    sol1 = minimize(objective6, x1, method='SLSQP',bounds= bnds , constraints=cons2)\n",
        "    print(\"weights: \", a1, a2)\n",
        "    print(\"F1: \", objective3(sol1.x))\n",
        "    X3.append(objective3(sol1.x))\n",
        "    print(\"F2: \", objective4(sol1.x))\n",
        "    Y3.append(objective3(sol1.x))\n",
        "    print(\"**********************************************************\")\n",
        "\n",
        "plt.figure(figsize=(18,5))\n",
        "plt.subplot(1,3,1)\n",
        "plt.scatter(X1, Y1)\n",
        "plt.grid()\n",
        "plt.subplot(1,3,2)\n",
        "plt.scatter(X2, Y2)\n",
        "plt.grid()"
      ]
    },
    {
      "cell_type": "code",
      "execution_count": null,
      "id": "cc847459",
      "metadata": {
        "id": "cc847459",
        "outputId": "76d1e4e2-5f69-42d7-a931-4ff9202e5141"
      },
      "outputs": [
        {
          "data": {
            "image/png": "[encoded data removed]",
            "text/plain": [
              "<Figure size 1800x500 with 2 Axes>"
            ]
          },
          "metadata": {},
          "output_type": "display_data"
        }
      ],
      "source": [
        "plt.figure(figsize=(18,5))\n",
        "plt.subplot(1,3,1)\n",
        "plt.scatter(X1, Y1)\n",
        "plt.grid()\n",
        "plt.subplot(1,3,2)\n",
        "plt.scatter(X2, Y2)\n",
        "plt.grid()"
      ]
    },
    {
      "cell_type": "code",
      "execution_count": null,
      "id": "bd058629",
      "metadata": {
        "id": "bd058629",
        "outputId": "9e36cc54-6c41-47dc-94f7-c966b80f2ac6"
      },
      "outputs": [
        {
          "name": "stdout",
          "output_type": "stream",
          "text": [
            " message: Optimization terminated successfully\n",
            " success: True\n",
            "  status: 0\n",
            "     fun: -3.469614183933577\n",
            "       x: [-9.336e-01 -5.123e-01 -8.223e-01 -7.470e-01 -2.763e+00]\n",
            "     nit: 12\n",
            "     jac: [ 3.000e+00  2.000e+00 -3.333e-01  1.219e-01 -1.219e-01]\n",
            "    nfev: 72\n",
            "    njev: 12\n",
            "10.000000182169828\n"
          ]
        }
      ],
      "source": [
        "x1=[1,2,3,4,5]\n",
        "b=(-4, 4)\n",
        "bnds = (b,b,b,b,b)\n",
        "sol1 = minimize(objective2, x1, method='SLSQP',bounds= bnds , constraints=cons2)\n",
        "print(sol1)\n",
        "print(objective3(sol1.x))"
      ]
    },
    {
      "cell_type": "code",
      "execution_count": null,
      "id": "7d6e5e9f",
      "metadata": {
        "id": "7d6e5e9f",
        "outputId": "7e53f65d-65ff-43a0-c5fa-225fc5996177"
      },
      "outputs": [
        {
          "name": "stdout",
          "output_type": "stream",
          "text": [
            "[0.5550807467112996, 0.5566442431295089, 0.5621451749771418, 0.5731146779274964, 0.5920774332655312, 0.6222219479612534, 0.668887958279728, 0.7400407348736846, 0.8484412992355554, 1.0150229520977387, 1.2758968095583394, 1.6953017162865447, 2.394527221378958, 3.6144090669521165, 5.864472084707339, 10.000000005563404, 10.000000655828813, 10.000000000000155, 10.00000008956176, 10.000000010619967, 10.000000182169828]\n",
            "[2.131300748002664, 2.0722329717072925, 2.005263883869807, 1.9290643107230485, 1.8402164291114684, 1.736971709387754, 1.6145691843919934, 1.4675299561297213, 1.2877882088276116, 1.063628191759879, 0.7769851043855791, 0.40001484439803753, -0.11291757069185324, -0.838391556843484, -1.9102309537726598, -3.4696141266278704, -3.469614340178396, -3.46961412491129, -3.4696141547254093, -3.469614128331092, -3.469614183933577]\n"
          ]
        }
      ],
      "source": [
        "print(X1)\n",
        "print(Y1)"
      ]
    },
    {
      "cell_type": "code",
      "execution_count": null,
      "id": "9921bf71",
      "metadata": {
        "id": "9921bf71",
        "outputId": "2231962c-6883-48fb-aa44-03128693dd87"
      },
      "outputs": [
        {
          "name": "stdout",
          "output_type": "stream",
          "text": [
            "0.5620874499999999\n"
          ]
        }
      ],
      "source": [
        "X=[3.097e-01,  4.898e-01, -2.892e-01, -1.472e-01, -3.478e-01]\n",
        "sum=0\n",
        "for i in X:\n",
        "    sum+=i**2\n",
        "print(sum)"
      ]
    },
    {
      "cell_type": "markdown",
      "id": "84ab65de",
      "metadata": {
        "id": "84ab65de"
      },
      "source": [
        "X1* = [-9.336e-01 -5.123e-01 -8.223e-01 -7.470e-01 -2.763e+00]"
      ]
    },
    {
      "cell_type": "code",
      "execution_count": null,
      "id": "50221e1d",
      "metadata": {
        "id": "50221e1d",
        "outputId": "fac27c6e-9acb-4834-a3f2-6f2a1f12ffa9"
      },
      "outputs": [
        {
          "name": "stdout",
          "output_type": "stream",
          "text": [
            "10.000000182169828\n"
          ]
        }
      ],
      "source": [
        "sum=0\n",
        "for i in sol1.x:\n",
        "    sum+=i**2\n",
        "print(sum)"
      ]
    },
    {
      "cell_type": "code",
      "execution_count": null,
      "id": "e8857442",
      "metadata": {
        "id": "e8857442",
        "outputId": "2be96697-383e-422f-e0a1-20736d5e581e"
      },
      "outputs": [
        {
          "name": "stdout",
          "output_type": "stream",
          "text": [
            "F1* =  ( 0.5550807467112996 , 2.131300748002664 )\n",
            "F2* =  ( 10.000000182169828 , -3.469614183933577 )\n",
            "utopian point:  ( 0.5550807467112996 , -3.469614183933577 )\n"
          ]
        }
      ],
      "source": [
        "#SOLUTION USING NBI METHOD\n",
        "\n",
        "#finding the individual minima\n",
        "x1=[1,2,3,4,5]\n",
        "b=(-4, 4)\n",
        "bnds = (b,b,b,b,b)\n",
        "sol2 = minimize(objective3, x1, method='SLSQP',bounds= bnds , constraints=cons2)\n",
        "\n",
        "print(\"F1* = \", \"(\",sol2.fun, \",\", objective4(sol2.x), \")\")\n",
        "sol3 = minimize(objective4, x1, method='SLSQP',bounds= bnds , constraints=cons2)\n",
        "print(\"F2* = \", \"(\", objective3(sol3.x), \",\", sol3.fun, \")\")\n",
        "\n",
        "print(\"utopian point: \", \"(\",sol2.fun, \",\", sol3.fun, \")\")"
      ]
    },
    {
      "cell_type": "markdown",
      "id": "ce118916",
      "metadata": {
        "id": "ce118916"
      },
      "source": [
        "## NBI SUBPROBLEM"
      ]
    },
    {
      "cell_type": "code",
      "execution_count": null,
      "id": "7089a2c9",
      "metadata": {
        "id": "7089a2c9",
        "outputId": "4142147f-8797-479f-c765-4e25f241c0df"
      },
      "outputs": [
        {
          "name": "stdout",
          "output_type": "stream",
          "text": [
            "1 ----------------------------------------------------------\n",
            "a1:  1.0 a2:  0.0\n",
            "Point on the cartesian plane:  0.5551005971119948 ,  2.1379342560627914\n",
            "2 ----------------------------------------------------------\n",
            "a1:  0.95 a2:  0.050000000000000044\n",
            "Point on the cartesian plane:  0.7650305309841857 ,  1.4224912905594553\n",
            "3 ----------------------------------------------------------\n",
            "a1:  0.9 a2:  0.09999999999999998\n",
            "Point on the cartesian plane:  1.1232219802660048 ,  0.9376785604413092\n",
            "4 ----------------------------------------------------------\n",
            "a1:  0.85 a2:  0.15000000000000002\n",
            "Point on the cartesian plane:  1.5346885983562726 ,  0.5357378196464435\n",
            "5 ----------------------------------------------------------\n",
            "a1:  0.8 a2:  0.19999999999999996\n",
            "Point on the cartesian plane:  1.9764682799391917 ,  0.18095065759646842\n",
            "6 ----------------------------------------------------------\n",
            "a1:  0.75 a2:  0.25\n",
            "Point on the cartesian plane:  2.4386116264595286 ,  -0.14215969940598736\n",
            "7 ----------------------------------------------------------\n",
            "a1:  0.7 a2:  0.30000000000000004\n",
            "Point on the cartesian plane:  2.915725039659997 ,  -0.4419838753194642\n",
            "8 ----------------------------------------------------------\n",
            "a1:  0.6499999999999999 a2:  0.3500000000000001\n",
            "Point on the cartesian plane:  3.404489041880062 ,  -0.7236837183201722\n",
            "9 ----------------------------------------------------------\n",
            "a1:  0.6 a2:  0.4\n",
            "Point on the cartesian plane:  3.902686889573938 ,  -0.9907094687100826\n",
            "10 ----------------------------------------------------------\n",
            "a1:  0.55 a2:  0.44999999999999996\n",
            "Point on the cartesian plane:  4.408746747138008 ,  -1.2455051024036838\n",
            "11 ----------------------------------------------------------\n",
            "a1:  0.5 a2:  0.5\n",
            "Point on the cartesian plane:  4.921505672261 ,  -1.4898800828682395\n",
            "12 ----------------------------------------------------------\n",
            "a1:  0.44999999999999996 a2:  0.55\n",
            "Point on the cartesian plane:  5.440073004645892 ,  -1.7252202262171337\n",
            "13 ----------------------------------------------------------\n",
            "a1:  0.3999999999999999 a2:  0.6000000000000001\n",
            "Point on the cartesian plane:  5.963746966587824 ,  -1.952615832458184\n",
            "14 ----------------------------------------------------------\n",
            "a1:  0.35 a2:  0.65\n",
            "Point on the cartesian plane:  6.491964037899684 ,  -2.1729448490776364\n",
            "15 ----------------------------------------------------------\n",
            "a1:  0.29999999999999993 a2:  0.7000000000000001\n",
            "Point on the cartesian plane:  7.0242615023777475 ,  -2.386926716274153\n",
            "16 ----------------------------------------------------------\n",
            "a1:  0.25 a2:  0.75\n",
            "Point on the cartesian plane:  7.560254342774058 ,  -2.5951607183688896\n",
            "17 ----------------------------------------------------------\n",
            "a1:  0.19999999999999996 a2:  0.8\n",
            "Point on the cartesian plane:  9.976217480396343 ,  0.1210049694877095\n",
            "18 ----------------------------------------------------------\n",
            "a1:  0.1499999999999999 a2:  0.8500000000000001\n",
            "Point on the cartesian plane:  9.777911176604105 ,  -1.2294715033815835\n",
            "19 ----------------------------------------------------------\n",
            "a1:  0.09999999999999998 a2:  0.9\n",
            "Point on the cartesian plane:  9.187378711078694 ,  -3.190077571748987\n",
            "20 ----------------------------------------------------------\n",
            "a1:  0.04999999999999993 a2:  0.9500000000000001\n",
            "Point on the cartesian plane:  10.000000006231193 ,  -2.968000000009082\n",
            "21 ----------------------------------------------------------\n",
            "a1:  0.0 a2:  1.0\n",
            "Point on the cartesian plane:  11.414716982208292 ,  -3.9269336594991646\n"
          ]
        }
      ],
      "source": [
        "def obj1(x):\n",
        "    return -x[5]\n",
        "\n",
        "def con1(x):\n",
        "    global a1\n",
        "    return (1-a1)*9.45 + x[5]*(-0.54) - (x[0]**2 + x[1]**2 + x[2]**2 + x[3]**2 + x[4]**2) + 0.55\n",
        "\n",
        "def con2(x):\n",
        "    return a1*6.14 + x[5]*(-0.84) - (3*x[0] + 2*x[1] - x[2]/3 + 0.01*(x[3]-x[4])**3) - 4.01\n",
        "\n",
        "def con3(x):\n",
        "    return (2 - x[0]-2*x[1]+x[2]+0.5*x[3]+x[4])\n",
        "\n",
        "def con4(x):\n",
        "    return (4*x[0] - 2*x[1] + 0.8*x[2] + 0.6*x[3] + 0.5*x[4]**2)\n",
        "\n",
        "def con5(x):\n",
        "    sum_sq=10\n",
        "    for i in range(5):\n",
        "        sum_sq-=x[i]**2\n",
        "    return sum_sq\n",
        "\n",
        "def objective3(x):\n",
        "    return x[0]**2 + x[1]**2 + x[2]**2 + x[3]**2 + x[4]**2\n",
        "\n",
        "def objective4(x):\n",
        "    return 3*x[0] + 2*x[1] - x[2]/3 + 0.01*(x[3]-x[4])**3\n",
        "\n",
        "cons1 = {'type': 'eq', 'fun':con1}\n",
        "cons2 = {'type': 'eq', 'fun':con2}\n",
        "cons3 = {'type': 'eq', 'fun':con3}\n",
        "cons4 = {'type': 'eq', 'fun':con4}\n",
        "cons5 = {'type': 'ineq', 'fun':con5}\n",
        "constraint = [cons1, cons2, cons3, cons4, cons5]\n",
        "\n",
        "\n",
        "a1=0.95\n",
        "x1=[1,2,3,4,5,6]\n",
        "b=(-10e100, 10e100)\n",
        "bnds = (b,b,b,b,b,b)\n",
        "\n",
        "X1=[]\n",
        "Y1=[]\n",
        "\n",
        "a1=1\n",
        "for i in range(0,21):\n",
        "    a1=1-(0.05*i)\n",
        "    print(i+1, \"----------------------------------------------------------\")\n",
        "    sol1 = minimize(obj1, x1, method='SLSQP',bounds= (bnds) , constraints=constraint)\n",
        "    print(\"a1: \", a1, \"a2: \", 1-a1)\n",
        "    X1.append(objective3(sol1.x))\n",
        "    Y1.append(objective4(sol1.x))\n",
        "    print(\"Point on the cartesian plane: \", objective3(sol1.x), \", \", objective4(sol1.x))"
      ]
    },
    {
      "cell_type": "code",
      "execution_count": null,
      "id": "92161300",
      "metadata": {
        "scrolled": true,
        "id": "92161300",
        "outputId": "fc6d1457-ea46-424c-e52a-c7ea27459003"
      },
      "outputs": [
        {
          "data": {
            "image/png": "[encoded data removed]",
            "text/plain": [
              "<Figure size 1500x400 with 1 Axes>"
            ]
          },
          "metadata": {},
          "output_type": "display_data"
        }
      ],
      "source": [
        "plt.figure(figsize=(15,4))\n",
        "plt.subplot(1,3,1)\n",
        "plt.scatter(X1, Y1)\n",
        "plt.grid()"
      ]
    },
    {
      "cell_type": "markdown",
      "id": "dde8e1d9",
      "metadata": {
        "id": "dde8e1d9"
      },
      "source": [
        "## DTLZ 5 optimization problem"
      ]
    },
    {
      "cell_type": "code",
      "execution_count": null,
      "id": "441daa92",
      "metadata": {
        "id": "441daa92"
      },
      "outputs": [],
      "source": [
        "from math import *"
      ]
    },
    {
      "cell_type": "code",
      "execution_count": null,
      "id": "db9d4b0f",
      "metadata": {
        "id": "db9d4b0f",
        "outputId": "4eed6ac8-68f8-48fa-8b4d-1ffc87e03e26"
      },
      "outputs": [
        {
          "name": "stdout",
          "output_type": "stream",
          "text": [
            "3.141592653589793\n"
          ]
        }
      ],
      "source": [
        "print(pi)"
      ]
    },
    {
      "cell_type": "markdown",
      "id": "fd87c71f",
      "metadata": {
        "id": "fd87c71f"
      },
      "source": [
        "## function 1"
      ]
    },
    {
      "cell_type": "code",
      "execution_count": null,
      "id": "153451df",
      "metadata": {
        "id": "153451df",
        "outputId": "cd1bbf93-7fc4-41f5-eb4c-660a39726524"
      },
      "outputs": [
        {
          "name": "stdout",
          "output_type": "stream",
          "text": [
            "Optimal solution found:\n",
            "x = [-1.36874676e-17  5.18500048e-01  3.00000000e-01]\n",
            "Minimum value of the objective function = -0.33106623916685146\n"
          ]
        }
      ],
      "source": [
        "import numpy as np\n",
        "\n",
        "# Define the objective function\n",
        "def objective_function1(x):\n",
        "    pi = np.pi\n",
        "    return (x[1]**2 - x[1] + 1.25) * np.cos((pi**2/8) * (1 + 2 * x[1]**2 * x[0] - 2 * x[0] * x[1] + 2.5 * x[0]) / (x[1]**2 - x[1] + 1.25)) * np.cos((pi**2/8) * (1 + 2 * x[1]**3 - 2 * x[0]**2 + 2.5 * x[1]) / (x[1]**2 - x[1] + 1.25))\n",
        "\n",
        "# Define the constraints\n",
        "constraints = ({'type': 'ineq', 'fun': lambda x: x[0] - 0},\n",
        "               {'type': 'ineq', 'fun': lambda x: 1 - x[0]},\n",
        "               {'type': 'ineq', 'fun': lambda x: x[1] - 0},\n",
        "               {'type': 'ineq', 'fun': lambda x: 1 - x[1]},\n",
        "               {'type': 'ineq', 'fun': lambda x: x[2] - 0},\n",
        "               {'type': 'ineq', 'fun': lambda x: 1 - x[2]})\n",
        "# Initial guess\n",
        "x0 = np.array([0.1, 0.2, 0.3])\n",
        "\n",
        "# Perform the optimization\n",
        "result = minimize(objective_function1, x0, constraints=constraints)\n",
        "optimum_x1=result.x\n",
        "\n",
        "# Print the result\n",
        "if result.success:\n",
        "    print(\"Optimal solution found:\")\n",
        "    print(\"x =\", result.x)\n",
        "    print(\"Minimum value of the objective function =\", result.fun)\n",
        "else:\n",
        "    print(\"Optimization failed:\", result.message)\n"
      ]
    },
    {
      "cell_type": "code",
      "execution_count": null,
      "id": "c686141c",
      "metadata": {
        "id": "c686141c",
        "outputId": "0bcb1901-acfb-4477-9d1d-ef221eaeb15f"
      },
      "outputs": [
        {
          "name": "stdout",
          "output_type": "stream",
          "text": [
            "Optimal solution found:\n",
            "x = [0.7704871  0.48921944 0.3       ]\n",
            "Minimum value of the objective function = -1.0000830402948906\n"
          ]
        }
      ],
      "source": [
        "def objective_function2(x):\n",
        "    pi = np.pi\n",
        "    return (x[1]**2 - x[1] + 1.25) * np.cos((pi**2/8) * (1 + 2 * x[1]**2 * x[0] - 2 * x[0] * x[1] + 2.5 * x[0]) / (x[1]**2 - x[1] + 1.25)) * np.sin((pi**2/8) * (1 + 2 * x[1]**3 - 2 * x[0]**2 + 2.5 * x[1]) / (x[1]**2 - x[1] + 1.25))\n",
        "\n",
        "# Define the constraints\n",
        "constraints = ({'type': 'ineq', 'fun': lambda x: x[0] - 0},\n",
        "               {'type': 'ineq', 'fun': lambda x: 1 - x[0]},\n",
        "               {'type': 'ineq', 'fun': lambda x: x[1] - 0},\n",
        "               {'type': 'ineq', 'fun': lambda x: 1 - x[1]},\n",
        "               {'type': 'ineq', 'fun': lambda x: x[2] - 0},\n",
        "               {'type': 'ineq', 'fun': lambda x: 1 - x[2]})\n",
        "# Initial guess\n",
        "x0 = np.array([0.1, 0.2, 0.3])\n",
        "\n",
        "# Perform the optimization\n",
        "result = minimize(objective_function2, x0, constraints=constraints)\n",
        "optimum_x2=result.x\n",
        "\n",
        "# Print the result\n",
        "if result.success:\n",
        "    print(\"Optimal solution found:\")\n",
        "    print(\"x =\", result.x)\n",
        "    print(\"Minimum value of the objective function =\", result.fun)\n",
        "else:\n",
        "    print(\"Optimization failed:\", result.message)\n"
      ]
    },
    {
      "cell_type": "code",
      "execution_count": null,
      "id": "98c25c13",
      "metadata": {
        "id": "98c25c13",
        "outputId": "82f5229b-bc29-438b-e7ff-cb95e237c3a7"
      },
      "outputs": [
        {
          "name": "stdout",
          "output_type": "stream",
          "text": [
            "Optimal solution found:\n",
            "x = [2.52027390e-16 5.00052243e-01 3.00000000e-01]\n",
            "Minimum value of the objective function = 0.9437192107903601\n"
          ]
        }
      ],
      "source": [
        "def objective_function3(x):\n",
        "    pi = np.pi\n",
        "    return (x[1]**2 - x[1] + 1.25) * np.sin((pi**2/8) * (1 + 2 * x[1]**2 * x[0] - 2 * x[0] * x[1] + 2.5 * x[0]) / (x[1]**2 - x[1] + 1.25))\n",
        "\n",
        "# Define the constraints\n",
        "constraints = ({'type': 'ineq', 'fun': lambda x: x[0] - 0},\n",
        "               {'type': 'ineq', 'fun': lambda x: 1 - x[0]},\n",
        "               {'type': 'ineq', 'fun': lambda x: x[1] - 0},\n",
        "               {'type': 'ineq', 'fun': lambda x: 1 - x[1]},\n",
        "               {'type': 'ineq', 'fun': lambda x: x[2] - 0},\n",
        "               {'type': 'ineq', 'fun': lambda x: 1 - x[2]})\n",
        "# Initial guess\n",
        "x0 = np.array([0.1, 0.2, 0.3])\n",
        "\n",
        "# Perform the optimization\n",
        "result = minimize(objective_function3, x0, constraints=constraints)\n",
        "optimum_x3 = result.x\n",
        "\n",
        "# Print the result\n",
        "if result.success:\n",
        "    print(\"Optimal solution found:\")\n",
        "    print(\"x =\", result.x)\n",
        "    print(\"Minimum value of the objective function =\", result.fun)\n",
        "else:\n",
        "    print(\"Optimization failed:\", result.message)\n"
      ]
    },
    {
      "cell_type": "markdown",
      "id": "5f5fd391",
      "metadata": {
        "id": "5f5fd391"
      },
      "source": [
        "# Finding the CHIM complex"
      ]
    },
    {
      "cell_type": "code",
      "execution_count": null,
      "id": "10838a37",
      "metadata": {
        "id": "10838a37",
        "outputId": "d6fdf0b8-aa4e-4104-aee3-3da835a159a2"
      },
      "outputs": [
        {
          "name": "stdout",
          "output_type": "stream",
          "text": [
            "Vertex 1:  -0.09999998533683807 , 17.036852910980084 , 1.0431342587307009\n"
          ]
        }
      ],
      "source": [
        "vertex1=[objective_function1(optimum_x1), objective_function2(optimum_x1),objective_function3(optimum_x1)]\n",
        "print(\"Vertex 1: \", vertex1[0], \",\", vertex1[1], \",\", vertex1[2])"
      ]
    },
    {
      "cell_type": "code",
      "execution_count": null,
      "id": "1c383b3b",
      "metadata": {
        "id": "1c383b3b",
        "outputId": "d3e88502-e133-49ec-b15b-75640994ca4a"
      },
      "outputs": [
        {
          "name": "stdout",
          "output_type": "stream",
          "text": [
            "Vertex 2:  -0.0042738692826683345 , -1.0000830402948906 , 0.006935488890440051\n"
          ]
        }
      ],
      "source": [
        "vertex2=[objective_function1(optimum_x2), objective_function2(optimum_x2),objective_function3(optimum_x2)]\n",
        "print(\"Vertex 2: \", vertex2[0], \",\", vertex2[1], \",\", vertex2[2])"
      ]
    },
    {
      "cell_type": "code",
      "execution_count": null,
      "id": "0a2eb03b",
      "metadata": {
        "id": "0a2eb03b",
        "outputId": "7459bb9f-6b7d-476c-931e-a9e62bfe22e5"
      },
      "outputs": [
        {
          "name": "stdout",
          "output_type": "stream",
          "text": [
            "Vertex 3:  -0.33020899549278965 , 0.018869974551904485 , 0.9437192107903601\n"
          ]
        }
      ],
      "source": [
        "vertex3=[objective_function1(optimum_x3), objective_function2(optimum_x3),objective_function3(optimum_x3)]\n",
        "print(\"Vertex 3: \", vertex3[0], \",\", vertex3[1], \",\", vertex3[2])"
      ]
    },
    {
      "cell_type": "markdown",
      "id": "d0cb8719",
      "metadata": {
        "id": "d0cb8719"
      },
      "source": [
        "Hence, the CHIM simplex is a traingle with vertices as Vertex 1, Vertex 2 and Vertex 3"
      ]
    },
    {
      "cell_type": "markdown",
      "id": "efd26b2d",
      "metadata": {
        "id": "efd26b2d"
      },
      "source": [
        "# Finding the normal to the CHIM simplex"
      ]
    },
    {
      "cell_type": "code",
      "execution_count": null,
      "id": "1da832cf",
      "metadata": {
        "id": "1da832cf",
        "outputId": "d3f4061a-554e-4701-f788-978ca99cd532"
      },
      "outputs": [
        {
          "name": "stdout",
          "output_type": "stream",
          "text": [
            "[-0.32679236988418314, 0.9887733185588204, 0.9369669722593289]\n",
            "[-0.32593512621012133, 1.0189530148467951, 0.9367837218999201]\n"
          ]
        }
      ],
      "source": [
        "side1=[]\n",
        "side2=[]\n",
        "for i in range(0,3):\n",
        "    side1.append(vertex1[i]-vertex2[i])\n",
        "    side2.append(vertex3[i]-vertex2[i])\n",
        "print(side1)\n",
        "print(side2)"
      ]
    },
    {
      "cell_type": "code",
      "execution_count": null,
      "id": "cf3d2cdc",
      "metadata": {
        "id": "cf3d2cdc",
        "outputId": "93da8917-edc2-40c5-9d4e-f9fe686ade53"
      },
      "outputs": [
        {
          "name": "stdout",
          "output_type": "stream",
          "text": [
            "[-0.010710114144747762, 0.0007433241905408505, -0.028458571720649473]\n"
          ]
        }
      ],
      "source": [
        "area=[]\n",
        "area.append(side1[0]*side2[1] - side2[0]*side1[1])\n",
        "area.append(-side1[0]*side2[2] + side2[0]*side1[2])\n",
        "area.append(side1[1]*side2[2] - side2[1]*side1[2])\n",
        "print(area)\n"
      ]
    },
    {
      "cell_type": "code",
      "execution_count": null,
      "id": "42ddfbb6",
      "metadata": {
        "id": "42ddfbb6"
      },
      "outputs": [],
      "source": [
        "sum=0\n",
        "for i in range(0,3):\n",
        "    sum+=area[i]**2\n",
        "area_value=sum**0.5"
      ]
    },
    {
      "cell_type": "code",
      "execution_count": null,
      "id": "53ae7277",
      "metadata": {
        "id": "53ae7277",
        "outputId": "8437c0b6-1506-43a8-f4ae-75fa06d9ed44"
      },
      "outputs": [
        {
          "name": "stdout",
          "output_type": "stream",
          "text": [
            "[-0.1760589764360125, 0.012219187804915016, -0.4678182641429168]\n"
          ]
        }
      ],
      "source": [
        "normal_vector=[]\n",
        "for i in range(0,3):\n",
        "    normal_vector.append((0.5*area[i])/area_value)\n",
        "print(normal_vector)"
      ]
    },
    {
      "cell_type": "markdown",
      "id": "ba38ddec",
      "metadata": {
        "id": "ba38ddec"
      },
      "source": [
        "The above is the normal vector to the CHIM"
      ]
    },
    {
      "cell_type": "markdown",
      "id": "8d9b3cea",
      "metadata": {
        "id": "8d9b3cea"
      },
      "source": [
        "# Making the payoff matrix"
      ]
    },
    {
      "cell_type": "code",
      "execution_count": null,
      "id": "f472b204",
      "metadata": {
        "scrolled": true,
        "id": "f472b204",
        "outputId": "97257648-c11f-4275-d583-d55b2378d9b0"
      },
      "outputs": [
        {
          "name": "stdout",
          "output_type": "stream",
          "text": [
            "PAYOFF MATRIX\n",
            "0                    0.9887733185588204                    0.0001832503594088042                     \n",
            "0.32679236988418314                    0                    -0.9367837218999201                     \n",
            "0.0008572436740618139                    1.0189530148467951                    0                     \n"
          ]
        }
      ],
      "source": [
        "payoffmatrix=[0, objective_function2(optimum_x1)-objective_function2(optimum_x2), objective_function3(optimum_x1)-objective_function3(optimum_x3), objective_function1(optimum_x2)-objective_function1(optimum_x1), 0,objective_function3(optimum_x2)-objective_function3(optimum_x3), objective_function1(optimum_x3)-objective_function1(optimum_x1), objective_function2(optimum_x3)-objective_function2(optimum_x2), 0]\n",
        "print(\"PAYOFF MATRIX\")\n",
        "for i in range(0,9,3):\n",
        "    for j in range(0,3):\n",
        "        print(payoffmatrix[i+j],end=\"                    \")\n",
        "    print(\" \")"
      ]
    },
    {
      "cell_type": "markdown",
      "id": "12a90c98",
      "metadata": {
        "id": "12a90c98"
      },
      "source": [
        "Normal vector: [-0.1760589764360125, 0.012219187804915016, -0.4678182641429168]"
      ]
    },
    {
      "cell_type": "markdown",
      "id": "5c0a64b2",
      "metadata": {
        "id": "5c0a64b2"
      },
      "source": [
        "## OPTIMIZATION"
      ]
    },
    {
      "cell_type": "code",
      "execution_count": null,
      "id": "27076aee",
      "metadata": {
        "id": "27076aee",
        "outputId": "a4b9ab5f-4256-4e9c-b964-97031d983e3d"
      },
      "outputs": [
        {
          "name": "stdout",
          "output_type": "stream",
          "text": [
            "1 ----------------------------------------------------------\n",
            "a1:  0 a2:  0.0 a3:  1.0\n",
            "Point on the cartesian plane:  -0.33020899547906546 ,  0.01886997452210807 ,  0.9437192107957599\n",
            "2 ----------------------------------------------------------\n",
            "a1:  0 a2:  0.1 a3:  0.9\n",
            "Point on the cartesian plane:  -0.25242413421174986 ,  -0.08616188259249348 ,  0.9701212349856855\n",
            "3 ----------------------------------------------------------\n",
            "a1:  0 a2:  0.2 a3:  0.8\n",
            "Point on the cartesian plane:  -0.11220554864995887 ,  -0.19552668820745575 ,  1.162421048004368\n",
            "4 ----------------------------------------------------------\n",
            "a1:  0 a2:  0.30000000000000004 a3:  0.7\n",
            "Point on the cartesian plane:  -0.0758612909333933 ,  -0.29768225408295673 ,  1.0787089929566818\n",
            "5 ----------------------------------------------------------\n",
            "a1:  0 a2:  0.4 a3:  0.6\n",
            "Point on the cartesian plane:  -0.033712599274688115 ,  -0.4002407768744469 ,  1.0104206959366855\n",
            "1 ----------------------------------------------------------\n",
            "a1:  0.0 a2:  0 a3:  1.0\n",
            "Point on the cartesian plane:  -0.33020899547906546 ,  0.01886997452210807 ,  0.9437192107957599\n",
            "2 ----------------------------------------------------------\n",
            "a1:  0.1 a2:  0 a3:  0.9\n",
            "Point on the cartesian plane:  -0.3302899398046916 ,  0.015851673128928195 ,  0.9437502371946447\n",
            "3 ----------------------------------------------------------\n",
            "a1:  0.2 a2:  0 a3:  0.8\n",
            "Point on the cartesian plane:  -0.3303719318654625 ,  0.012833444450767825 ,  0.9437784795826355\n",
            "4 ----------------------------------------------------------\n",
            "a1:  0.30000000000000004 a2:  0 a3:  0.7\n",
            "Point on the cartesian plane:  -0.3304549735614323 ,  0.009815288619166258 ,  0.943803932910324\n",
            "5 ----------------------------------------------------------\n",
            "a1:  0.4 a2:  0 a3:  0.6\n",
            "Point on the cartesian plane:  -0.33053906882326084 ,  0.006797205906738858 ,  0.9438265867330364\n",
            "1 ----------------------------------------------------------\n",
            "a1:  0.0 a2:  1.0 a3:  0\n",
            "Point on the cartesian plane:  -0.004273863641674985 ,  -1.0000830402912437 ,  0.006935504548870964\n",
            "2 ----------------------------------------------------------\n",
            "a1:  0.1 a2:  0.9 a3:  0\n",
            "Point on the cartesian plane:  0.08889043528327102 ,  -0.9099397468810376 ,  0.4350196076235136\n",
            "3 ----------------------------------------------------------\n",
            "a1:  0.2 a2:  0.8 a3:  0\n",
            "Point on the cartesian plane:  0.08908510985603975 ,  -0.8133439941661634 ,  0.6160678080613026\n",
            "4 ----------------------------------------------------------\n",
            "a1:  0.30000000000000004 a2:  0.7 a3:  0\n",
            "Point on the cartesian plane:  0.12199417161778855 ,  -0.5321640079699439 ,  1.0094437429636882\n",
            "5 ----------------------------------------------------------\n",
            "a1:  0.4 a2:  0.6 a3:  0\n",
            "Point on the cartesian plane:  0.04051954366186496 ,  -0.616754824592576 ,  0.848082778329293\n"
          ]
        }
      ],
      "source": [
        "global a1, a2\n",
        "\n",
        "def main_obj(y):\n",
        "    return -y[3]\n",
        "\n",
        "def constraint1(y):\n",
        "    return a2*0.32679236988418314 + (1-a1-a2)*0.0008572436740618139 + y[3]*-0.1760589764360125 - ((y[1]**2 - y[1] + 1.25) * np.cos((pi**2/8) * (1 + 2 * y[1]**2 * y[0] - 2 * y[0] * y[1] + 2.5 * y[0]) / (y[1]**2 - y[1] + 1.25)) * np.cos((pi**2/8) * (1 + 2 * y[1]**3 - 2 * y[0]**2 + 2.5 * y[1]) / (y[1]**2 - y[1] + 1.25))) + objective_function1(optimum_x1)\n",
        "\n",
        "def constraint2(y):\n",
        "    return a1*0.9887733185588204 + (1-a1-a2)*1.0189530148467951 + y[3]*0.012219187804915016 - ((y[1]**2 - y[1] + 1.25) * np.cos((pi**2/8) * (1 + 2 * y[1]**2 * y[0] - 2 * y[0] * y[1] + 2.5 * y[0]) / (y[1]**2 - y[1] + 1.25)) * np.sin((pi**2/8) * (1 + 2 * y[1]**3 - 2 * y[0]**2 + 2.5 * y[1]) / (y[1]**2 - y[1] + 1.25))) + objective_function2(optimum_x2)\n",
        "\n",
        "def constraint3(y):\n",
        "    return a1*0.0001832503594088042 + a2*-0.9367837218999201 + y[3]*-0.4678182641429168 - ((y[1]**2 - y[1] + 1.25) * np.sin((pi**2/8) * (1 + 2 * y[1]**2 * y[0] - 2 * y[0] * y[1] + 2.5 * y[0]) / (y[1]**2 - y[1] + 1.25))) + objective_function3(optimum_x3)\n",
        "\n",
        "cons1 = {'type': 'eq', 'fun':constraint1}\n",
        "cons2 = {'type': 'eq', 'fun':constraint2}\n",
        "cons3 = {'type': 'eq', 'fun':constraint3}\n",
        "\n",
        "constraint = [cons1, cons2, cons3]\n",
        "x1=[0.1,0.2,0.3,0.4]\n",
        "x1_bounds = (0, 1)\n",
        "x2_bounds = (0, 1)\n",
        "x3_bounds = (0, 1)\n",
        "x4_bounds = (-10e5, 10e5)\n",
        "\n",
        "# Combine the bounds into a list\n",
        "bounds = [x1_bounds, x2_bounds, x3_bounds, x4_bounds]\n",
        "\n",
        "a1=0.05\n",
        "a2=0.05\n",
        "x1=[0.1,0.2,0.3,0.4]\n",
        "#sol1 = minimize(main_obj, x1, method='SLSQP',bounds= bounds , constraints=constraint)\n",
        "#print(sol1.x)\n",
        "\n",
        "X1=[]\n",
        "Y1=[]\n",
        "Z1=[]\n",
        "\n",
        "a1=0\n",
        "for i in range(0,5):\n",
        "    a2=0.1*i\n",
        "    a3=1-a2\n",
        "    print(i+1, \"----------------------------------------------------------\")\n",
        "    sol1 = minimize(main_obj, x1, method='SLSQP',bounds= bounds , constraints=constraint)\n",
        "    print(\"a1: \", a1, \"a2: \", a2, \"a3: \", a3)\n",
        "    X1.append(objective_function1(sol1.x))\n",
        "    Y1.append(objective_function2(sol1.x))\n",
        "    Z1.append(objective_function3(sol1.x))\n",
        "    print(\"Point on the cartesian plane: \", objective_function1(sol1.x), \", \", objective_function2(sol1.x), \", \", objective_function3(sol1.x))\n",
        "\n",
        "a2=0\n",
        "for i in range(0,5):\n",
        "    a1=0.1*i\n",
        "    a3=1-a1\n",
        "    print(i+1, \"----------------------------------------------------------\")\n",
        "    sol1 = minimize(main_obj, x1, method='SLSQP',bounds= bounds , constraints=constraint)\n",
        "    print(\"a1: \", a1, \"a2: \", a2, \"a3: \", a3)\n",
        "    X1.append(objective_function1(sol1.x))\n",
        "    Y1.append(objective_function2(sol1.x))\n",
        "    Z1.append(objective_function3(sol1.x))\n",
        "    print(\"Point on the cartesian plane: \", objective_function1(sol1.x), \", \", objective_function2(sol1.x), \", \", objective_function3(sol1.x))\n",
        "\n",
        "a3=0\n",
        "for i in range(0,5):\n",
        "    a1=0.1*i\n",
        "    a2=1-a1\n",
        "    print(i+1, \"----------------------------------------------------------\")\n",
        "    sol1 = minimize(main_obj, x1, method='SLSQP',bounds= bounds , constraints=constraint)\n",
        "    print(\"a1: \", a1, \"a2: \", a2, \"a3: \", a3)\n",
        "    X1.append(objective_function1(sol1.x))\n",
        "    Y1.append(objective_function2(sol1.x))\n",
        "    Z1.append(objective_function3(sol1.x))\n",
        "    print(\"Point on the cartesian plane: \", objective_function1(sol1.x), \", \", objective_function2(sol1.x), \", \", objective_function3(sol1.x))"
      ]
    },
    {
      "cell_type": "code",
      "execution_count": null,
      "id": "b85a3e9a",
      "metadata": {
        "id": "b85a3e9a",
        "outputId": "7e968c9a-fbd2-4c9a-8bd2-8bb4fb29d8dd"
      },
      "outputs": [
        {
          "data": {
            "image/png": "[encoded data removed]",
            "text/plain": [
              "<Figure size 640x480 with 1 Axes>"
            ]
          },
          "metadata": {},
          "output_type": "display_data"
        }
      ],
      "source": [
        "import matplotlib.pyplot as plt\n",
        "from mpl_toolkits.mplot3d import Axes3D\n",
        "\n",
        "# Create a 3D scatter plot\n",
        "fig = plt.figure()\n",
        "ax = fig.add_subplot(111, projection='3d')\n",
        "\n",
        "ax.scatter(X1, Y1, Z1)\n",
        "\n",
        "# Customize labels\n",
        "ax.set_xlabel('X Label')\n",
        "ax.set_ylabel('Y Label')\n",
        "ax.set_zlabel('Z Label')\n",
        "\n",
        "# Show the plot\n",
        "plt.show()"
      ]
    },
    {
      "cell_type": "markdown",
      "id": "ee84e9b4",
      "metadata": {
        "id": "ee84e9b4"
      },
      "source": [
        "## OSYCZA AND KUNDU PROBLEM"
      ]
    },
    {
      "cell_type": "code",
      "execution_count": null,
      "id": "576a5eb7",
      "metadata": {
        "id": "576a5eb7",
        "outputId": "4985751a-cfe1-42fe-869d-e1c4185bb313"
      },
      "outputs": [
        {
          "name": "stdout",
          "output_type": "stream",
          "text": [
            "Optimal solution found:\n",
            "x = [0.         2.         4.73205081 1.         1.         0.6       ]\n",
            "Minimum value of the objective function = -122.92820324624927\n"
          ]
        }
      ],
      "source": [
        "# Define the objective function\n",
        "def objective_function1(x):\n",
        "    return (-25*(x[0]-2)**2 - (x[1]-2)**2 - (x[2]-1)**2 -(x[3]-4)**2 - (x[4]-1)**2)\n",
        "\n",
        "def constraint1(x):\n",
        "    return x[0]+x[1]-2\n",
        "\n",
        "def constraint2(x):\n",
        "    return 6-x[0]-x[1]\n",
        "\n",
        "def constraint3(x):\n",
        "    return 2-x[1]-x[0]\n",
        "\n",
        "def constraint4(x):\n",
        "    return 2-x[0]+3*x[1]\n",
        "\n",
        "def constraint5(x):\n",
        "    return 4-(x[2]-3)**2 - x[3]\n",
        "\n",
        "def constraint6(x):\n",
        "    return (x[4]-3)**2 + x[5] - 4\n",
        "\n",
        "# Define the constraints\n",
        "constraints = ({'type': 'ineq', 'fun': constraint1},\n",
        "               {'type': 'ineq', 'fun': constraint2},\n",
        "               {'type': 'ineq', 'fun': constraint3},\n",
        "               {'type': 'ineq', 'fun': constraint4},\n",
        "               {'type': 'ineq', 'fun': constraint5},\n",
        "               {'type': 'ineq', 'fun': constraint6})\n",
        "\n",
        "x1_bounds = (0, 10)\n",
        "x2_bounds = (0, 10)\n",
        "x3_bounds = (1, 5)\n",
        "x4_bounds = (1, 5)\n",
        "x5_bounds = (1, 5)\n",
        "x6_bounds = (0, 10)\n",
        "\n",
        "# Combine the bounds into a list\n",
        "bounds = [x1_bounds, x2_bounds, x3_bounds, x4_bounds, x5_bounds, x6_bounds]\n",
        "\n",
        "# Initial guess\n",
        "x0 = np.array([0.1, 0.2, 0.3, 0.4, 0.5, 0.6])\n",
        "\n",
        "# Perform the optimization\n",
        "result = minimize(objective_function1, x0, constraints=constraints, bounds=bounds)\n",
        "optimum_x1=result.x\n",
        "\n",
        "# Print the result\n",
        "if result.success:\n",
        "    print(\"Optimal solution found:\")\n",
        "    print(\"x =\", result.x)\n",
        "    print(\"Minimum value of the objective function =\", result.fun)\n",
        "else:\n",
        "    print(\"Optimization failed:\", result.message)"
      ]
    },
    {
      "cell_type": "code",
      "execution_count": null,
      "id": "da250207",
      "metadata": {
        "id": "da250207",
        "outputId": "9099e7b1-81de-4ae5-b71f-8ff81b52efca"
      },
      "outputs": [
        {
          "name": "stdout",
          "output_type": "stream",
          "text": [
            "Optimal solution found:\n",
            "x = [1.00000171e+00 9.99998289e-01 1.26794919e+00 1.00000000e+00\n",
            " 1.00000000e+00 3.36859393e-07]\n",
            "Minimum value of the objective function = 5.607695154510781\n"
          ]
        }
      ],
      "source": [
        "# Define the objective function\n",
        "def objective_function2(x):\n",
        "    return (x[0]**2 + x[1]**2 + x[2]**2 + x[3]**2 + x[4]**2 + x[5]**2)\n",
        "\n",
        "# Perform the optimization\n",
        "result = minimize(objective_function2, x0, constraints=constraints, bounds=bounds)\n",
        "optimum_x2=result.x\n",
        "\n",
        "# Print the result\n",
        "if result.success:\n",
        "    print(\"Optimal solution found:\")\n",
        "    print(\"x =\", result.x)\n",
        "    print(\"Minimum value of the objective function =\", result.fun)\n",
        "else:\n",
        "    print(\"Optimization failed:\", result.message)"
      ]
    },
    {
      "cell_type": "markdown",
      "id": "92e2172d",
      "metadata": {
        "id": "92e2172d"
      },
      "source": [
        "# Finding the CHIM complex"
      ]
    },
    {
      "cell_type": "code",
      "execution_count": null,
      "id": "b503190e",
      "metadata": {
        "id": "b503190e",
        "outputId": "91ba7fcf-8607-49a0-80d7-8d0d2473d327"
      },
      "outputs": [
        {
          "name": "stdout",
          "output_type": "stream",
          "text": [
            "Vertex 1:  -122.92820324624927 , 28.75230487035742\n"
          ]
        }
      ],
      "source": [
        "vertex1=[objective_function1(optimum_x1), objective_function2(optimum_x1)]\n",
        "print(\"Vertex 1: \", vertex1[0], \",\", vertex1[1])"
      ]
    },
    {
      "cell_type": "code",
      "execution_count": null,
      "id": "4b075e7d",
      "metadata": {
        "id": "4b075e7d",
        "outputId": "e816c363-6794-4db1-c0b2-77a6253d14f1"
      },
      "outputs": [
        {
          "name": "stdout",
          "output_type": "stream",
          "text": [
            "Vertex 1:  -35.071714661609775 , 5.607695154510781\n"
          ]
        }
      ],
      "source": [
        "vertex1=[objective_function1(optimum_x2), objective_function2(optimum_x2)]\n",
        "print(\"Vertex 1: \", vertex1[0], \",\", vertex1[1])"
      ]
    },
    {
      "cell_type": "markdown",
      "id": "d10a4f20",
      "metadata": {
        "id": "d10a4f20"
      },
      "source": [
        "Hence, the CHIM simplex is a line joining the above 2 vertices"
      ]
    },
    {
      "cell_type": "markdown",
      "id": "12984590",
      "metadata": {
        "id": "12984590"
      },
      "source": [
        "# Finding the normal to the CHIM simplex"
      ]
    },
    {
      "cell_type": "code",
      "execution_count": null,
      "id": "8ea95f29",
      "metadata": {
        "id": "8ea95f29",
        "outputId": "76da79eb-3735-4029-b170-f32f8ea558c7"
      },
      "outputs": [
        {
          "name": "stdout",
          "output_type": "stream",
          "text": [
            "The slope of the line is:  -0.028515373426825974\n"
          ]
        }
      ],
      "source": [
        "slope = vertex1[1]-vertex2[1]/vertex1[0]-vertex1[1]\n",
        "print(\"The slope of the line is: \", slope)"
      ]
    },
    {
      "cell_type": "code",
      "execution_count": null,
      "id": "6aae1a37",
      "metadata": {
        "id": "6aae1a37",
        "outputId": "d84f9937-d1fe-4c26-9de4-9eb645f3698d"
      },
      "outputs": [
        {
          "name": "stdout",
          "output_type": "stream",
          "text": [
            "The slope of the normal is:  35.068802537905576\n"
          ]
        }
      ],
      "source": [
        "print(\"The slope of the normal is: \", -(1/slope))"
      ]
    },
    {
      "cell_type": "markdown",
      "id": "cafc34bd",
      "metadata": {
        "id": "cafc34bd"
      },
      "source": [
        "Hence, the respective unit vectors will be 0.02850378718895100713189941759924 and 0.99959368451180552286328088676736"
      ]
    },
    {
      "cell_type": "markdown",
      "id": "9f73dd1d",
      "metadata": {
        "id": "9f73dd1d"
      },
      "source": [
        "# Making the payoff matrix"
      ]
    },
    {
      "cell_type": "code",
      "execution_count": null,
      "id": "bf489a03",
      "metadata": {
        "id": "bf489a03",
        "outputId": "352b4fb3-17a9-4475-8ef8-a8dbcb27d2ce"
      },
      "outputs": [
        {
          "name": "stdout",
          "output_type": "stream",
          "text": [
            "PAYOFF MATRIX\n",
            "0                    23.14460971584664                     \n",
            "87.8564885846395                    0                     \n"
          ]
        }
      ],
      "source": [
        "payoffmatrix=[0, objective_function2(optimum_x1)-objective_function2(optimum_x2), objective_function1(optimum_x2)-objective_function1(optimum_x1), 0]\n",
        "print(\"PAYOFF MATRIX\")\n",
        "for i in range(0,4,2):\n",
        "    for j in range(0,2):\n",
        "        print(payoffmatrix[i+j],end=\"                    \")\n",
        "    print(\" \")"
      ]
    },
    {
      "cell_type": "code",
      "execution_count": null,
      "id": "94105911",
      "metadata": {
        "id": "94105911",
        "outputId": "d0dbbd68-70ee-43ac-d03d-188113b2d00f"
      },
      "outputs": [
        {
          "name": "stdout",
          "output_type": "stream",
          "text": [
            "1 ----------------------------------------------------------\n",
            "a1:  1.0 a2:  0.0\n",
            "Point on the cartesian plane:  -123.11749256018952 ,  22.114155301495977\n",
            "2 ----------------------------------------------------------\n",
            "a1:  0.98 a2:  0.020000000000000018\n",
            "Point on the cartesian plane:  -121.41815473689886 ,  19.62456914630598\n",
            "3 ----------------------------------------------------------\n",
            "a1:  0.96 a2:  0.040000000000000036\n",
            "Point on the cartesian plane:  -119.72112993404508 ,  17.053867435937605\n",
            "4 ----------------------------------------------------------\n",
            "a1:  0.94 a2:  0.06000000000000005\n",
            "Point on the cartesian plane:  -118.02735525067962 ,  14.369187950063683\n",
            "5 ----------------------------------------------------------\n",
            "a1:  0.92 a2:  0.07999999999999996\n",
            "Point on the cartesian plane:  -116.3389547843751 ,  11.496040464739986\n",
            "6 ----------------------------------------------------------\n",
            "a1:  0.9 a2:  0.09999999999999998\n",
            "Point on the cartesian plane:  -114.65966293486078 ,  8.303466370696555\n",
            "7 ----------------------------------------------------------\n",
            "a1:  0.88 a2:  0.12\n",
            "Point on the cartesian plane:  -113.0298578388106 ,  3.375450268016495\n",
            "8 ----------------------------------------------------------\n",
            "a1:  0.86 a2:  0.14\n",
            "Point on the cartesian plane:  -111.27022603927888 ,  3.000301337511864\n",
            "9 ----------------------------------------------------------\n",
            "a1:  0.84 a2:  0.16000000000000003\n",
            "Point on the cartesian plane:  -109.49987013167654 ,  3.001244948987247\n",
            "10 ----------------------------------------------------------\n",
            "a1:  0.8200000000000001 a2:  0.17999999999999994\n",
            "Point on the cartesian plane:  -107.72949476459547 ,  3.002848723098677\n",
            "11 ----------------------------------------------------------\n",
            "a1:  0.8 a2:  0.19999999999999996\n",
            "Point on the cartesian plane:  -105.95910036358842 ,  3.005131212076772\n",
            "12 ----------------------------------------------------------\n",
            "a1:  0.78 a2:  0.21999999999999997\n",
            "Point on the cartesian plane:  -104.18868655972325 ,  3.0081118528077075\n",
            "13 ----------------------------------------------------------\n",
            "a1:  0.76 a2:  0.24\n",
            "Point on the cartesian plane:  -102.4182512547651 ,  3.011811029392349\n",
            "14 ----------------------------------------------------------\n",
            "a1:  0.74 a2:  0.26\n",
            "Point on the cartesian plane:  -100.64779545591922 ,  3.0162501314222467\n",
            "15 ----------------------------------------------------------\n",
            "a1:  0.72 a2:  0.28\n",
            "Point on the cartesian plane:  -98.87731792119676 ,  3.02145163314244\n",
            "16 ----------------------------------------------------------\n",
            "a1:  0.7 a2:  0.30000000000000004\n",
            "Point on the cartesian plane:  -97.10681768019879 ,  3.0274391685041335\n",
            "17 ----------------------------------------------------------\n",
            "a1:  0.6799999999999999 a2:  0.32000000000000006\n",
            "Point on the cartesian plane:  -95.33629458358143 ,  3.0342376135805953\n",
            "18 ----------------------------------------------------------\n",
            "a1:  0.6599999999999999 a2:  0.3400000000000001\n",
            "Point on the cartesian plane:  -93.56574744434248 ,  3.041873185930836\n",
            "19 ----------------------------------------------------------\n",
            "a1:  0.64 a2:  0.36\n",
            "Point on the cartesian plane:  -91.79517573744798 ,  3.050373542567992\n",
            "20 ----------------------------------------------------------\n",
            "a1:  0.62 a2:  0.38\n",
            "Point on the cartesian plane:  -90.02457858400848 ,  3.0597678960218095\n",
            "21 ----------------------------------------------------------\n",
            "a1:  0.6 a2:  0.4\n",
            "Point on the cartesian plane:  -88.25395496587615 ,  3.070087139316552\n",
            "22 ----------------------------------------------------------\n",
            "a1:  0.5800000000000001 a2:  0.41999999999999993\n",
            "Point on the cartesian plane:  -86.48330408702927 ,  3.0813639819127276\n",
            "23 ----------------------------------------------------------\n",
            "a1:  0.56 a2:  0.43999999999999995\n",
            "Point on the cartesian plane:  -84.71262491512904 ,  3.093633105409718\n",
            "24 ----------------------------------------------------------\n",
            "a1:  0.54 a2:  0.45999999999999996\n",
            "Point on the cartesian plane:  -82.94191639352724 ,  3.1069313324722194\n",
            "25 ----------------------------------------------------------\n",
            "a1:  0.52 a2:  0.48\n",
            "Point on the cartesian plane:  -81.17117743909768 ,  3.121297816184128\n",
            "26 ----------------------------------------------------------\n",
            "a1:  0.5 a2:  0.5\n",
            "Point on the cartesian plane:  -79.40040678444952 ,  3.136774252856551\n",
            "27 ----------------------------------------------------------\n",
            "a1:  0.48 a2:  0.52\n",
            "Point on the cartesian plane:  -77.62960323314003 ,  3.1534051167099935\n",
            "28 ----------------------------------------------------------\n",
            "a1:  0.45999999999999996 a2:  0.54\n",
            "Point on the cartesian plane:  -75.85876540782678 ,  3.1712379278940355\n",
            "29 ----------------------------------------------------------\n",
            "a1:  0.43999999999999995 a2:  0.56\n",
            "Point on the cartesian plane:  -74.0878918583424 ,  3.190323551077405\n",
            "30 ----------------------------------------------------------\n",
            "a1:  0.42000000000000004 a2:  0.58\n",
            "Point on the cartesian plane:  -72.31698102937173 ,  3.2107165341313166\n",
            "31 ----------------------------------------------------------\n",
            "a1:  0.4 a2:  0.6\n",
            "Point on the cartesian plane:  -70.54603124930566 ,  3.232475491902423\n",
            "32 ----------------------------------------------------------\n",
            "a1:  0.38 a2:  0.62\n",
            "Point on the cartesian plane:  -68.77504071839249 ,  3.2556635428721106\n",
            "33 ----------------------------------------------------------\n",
            "a1:  0.36 a2:  0.64\n",
            "Point on the cartesian plane:  -67.00400749398239 ,  3.2803488079015497\n",
            "34 ----------------------------------------------------------\n",
            "a1:  0.33999999999999997 a2:  0.66\n",
            "Point on the cartesian plane:  -65.23292947391583 ,  3.3066049821662555\n",
            "35 ----------------------------------------------------------\n",
            "a1:  0.31999999999999995 a2:  0.68\n",
            "Point on the cartesian plane:  -63.461804377156454 ,  3.334511993833694\n",
            "36 ----------------------------------------------------------\n",
            "a1:  0.29999999999999993 a2:  0.7000000000000001\n",
            "Point on the cartesian plane:  -61.690629833773016 ,  3.364156780319365\n",
            "37 ----------------------------------------------------------\n",
            "a1:  0.28 a2:  0.72\n",
            "Point on the cartesian plane:  -59.91940285100768 ,  3.3956341020538328\n",
            "38 ----------------------------------------------------------\n",
            "a1:  0.26 a2:  0.74\n",
            "Point on the cartesian plane:  -58.14812087154677 ,  3.4290477233244547\n",
            "39 ----------------------------------------------------------\n",
            "a1:  0.24 a2:  0.76\n",
            "Point on the cartesian plane:  -56.37678013970047 ,  3.464511480522853\n",
            "40 ----------------------------------------------------------\n",
            "a1:  0.21999999999999997 a2:  0.78\n",
            "Point on the cartesian plane:  -54.60537751649932 ,  3.502150796885499\n",
            "41 ----------------------------------------------------------\n",
            "a1:  0.19999999999999996 a2:  0.8\n",
            "Point on the cartesian plane:  -52.833908908772656 ,  3.5421043746250582\n",
            "42 ----------------------------------------------------------\n",
            "a1:  0.17999999999999994 a2:  0.8200000000000001\n",
            "Point on the cartesian plane:  -51.06237014052482 ,  3.584526240402593\n",
            "43 ----------------------------------------------------------\n",
            "a1:  0.16000000000000003 a2:  0.84\n",
            "Point on the cartesian plane:  -49.290755642592146 ,  3.629588244714037\n",
            "44 ----------------------------------------------------------\n",
            "a1:  0.14 a2:  0.86\n",
            "Point on the cartesian plane:  -47.51906059436999 ,  3.6774830153874887\n",
            "45 ----------------------------------------------------------\n",
            "a1:  0.12 a2:  0.88\n",
            "Point on the cartesian plane:  -45.74727856778685 ,  3.728427706115819\n",
            "46 ----------------------------------------------------------\n",
            "a1:  0.09999999999999998 a2:  0.9\n",
            "Point on the cartesian plane:  -43.975402924573245 ,  3.782668542350426\n",
            "47 ----------------------------------------------------------\n",
            "a1:  0.07999999999999996 a2:  0.92\n",
            "Point on the cartesian plane:  -42.20342457952985 ,  3.8404865736894553\n",
            "48 ----------------------------------------------------------\n",
            "a1:  0.05999999999999994 a2:  0.9400000000000001\n",
            "Point on the cartesian plane:  -40.4313352989534 ,  3.902204919475033\n",
            "49 ----------------------------------------------------------\n",
            "a1:  0.040000000000000036 a2:  0.96\n",
            "Point on the cartesian plane:  -38.659124298248656 ,  3.968198111727956\n",
            "50 ----------------------------------------------------------\n",
            "a1:  0.020000000000000018 a2:  0.98\n",
            "Point on the cartesian plane:  -36.886778732203354 ,  4.03890427100868\n",
            "51 ----------------------------------------------------------\n",
            "a1:  0.0 a2:  1.0\n",
            "Point on the cartesian plane:  -35.114283998293786 ,  4.114841177727523\n"
          ]
        }
      ],
      "source": [
        "global a1\n",
        "\n",
        "def main_obj(y):\n",
        "    return -y[6]\n",
        "\n",
        "def constraint1(y):\n",
        "    return (1-a1)*87.8564885846395 + y[6]*-0.02850378718895100713189941759924 - (-25*(y[0]-2)**2 - (y[1]-2)**2 - (y[2]-1)**2 -(y[3]-4)**2 - (y[4]-1)**2) - 122.92820324624927\n",
        "\n",
        "def constraint2(y):\n",
        "    return a1*23.14460971584664 + y[6]*-0.99959368451180552286328088676736 - (y[0]**2 + y[1]**2 + y[2]**2 + y[3]**2 + y[4]**2 + y[5]**2) + 5.607695154510781\n",
        "\n",
        "x7_bounds=[-10e20, 10e20]\n",
        "# Combine the bounds into a list\n",
        "bounds = [x1_bounds, x2_bounds, x3_bounds, x4_bounds, x5_bounds, x6_bounds, x7_bounds]\n",
        "\n",
        "cons1 = {'type': 'eq', 'fun':constraint1}\n",
        "cons2 = {'type': 'eq', 'fun':constraint2}\n",
        "\n",
        "constraint=[cons1, cons2]\n",
        "x1=[0.1,0.2,0.3,0.4,0.5,0.6,0.7]\n",
        "\n",
        "X1=[]\n",
        "Y1=[]\n",
        "\n",
        "a1=1\n",
        "for i in range(0,51):\n",
        "    a1=1-(0.02*i)\n",
        "    print(i+1, \"----------------------------------------------------------\")\n",
        "    sol1 = minimize(main_obj, x1, method='SLSQP',bounds= bounds , constraints=constraint)\n",
        "    print(\"a1: \", a1, \"a2: \", 1-a1)\n",
        "    X1.append(objective_function1(sol1.x))\n",
        "    Y1.append(objective_function2(sol1.x))\n",
        "    print(\"Point on the cartesian plane: \", objective_function1(sol1.x), \", \", objective_function2(sol1.x))"
      ]
    },
    {
      "cell_type": "code",
      "execution_count": null,
      "id": "e36f2b51",
      "metadata": {
        "id": "e36f2b51",
        "outputId": "dfc673f8-396d-49c4-d8b1-5690f8269114"
      },
      "outputs": [
        {
          "data": {
            "image/png": "[encoded data removed]",
            "text/plain": [
              "<Figure size 2000x1000 with 1 Axes>"
            ]
          },
          "metadata": {},
          "output_type": "display_data"
        }
      ],
      "source": [
        "plt.figure(figsize=(20,10))\n",
        "plt.subplot(1,3,1)\n",
        "plt.scatter(X1, Y1)\n",
        "plt.grid()"
      ]
    },
    {
      "cell_type": "markdown",
      "id": "9765c62d",
      "metadata": {
        "id": "9765c62d"
      },
      "source": [
        "## VIENNET PROBLEM"
      ]
    },
    {
      "cell_type": "code",
      "execution_count": null,
      "id": "aece87b1",
      "metadata": {
        "id": "aece87b1",
        "outputId": "cf858bf4-fc59-474b-e0a1-99b5173af345"
      },
      "outputs": [
        {
          "name": "stdout",
          "output_type": "stream",
          "text": [
            "Optimal solution found:\n",
            "x = [-0.00016559 -0.00033117]\n",
            "Minimum value of the objective function = 2.0564315539515804e-07\n"
          ]
        }
      ],
      "source": [
        "# Define the objective function\n",
        "def objective_function1(x):\n",
        "    return (0.5*(x[0]**2 + x[1]**2) + np.sin(x[0]**2 + x[1]**2))\n",
        "\n",
        "# Define the constraints\n",
        "constraints = ({'type': 'ineq', 'fun': lambda x: x[0] - (-3)},\n",
        "               {'type': 'ineq', 'fun': lambda x: 3 - x[0]},\n",
        "               {'type': 'ineq', 'fun': lambda x: x[1] - (-3)},\n",
        "               {'type': 'ineq', 'fun': lambda x: 3 - x[1]})\n",
        "# Initial guess\n",
        "x0 = np.array([0.1, 0.2])\n",
        "\n",
        "# Perform the optimization\n",
        "result = minimize(objective_function1, x0, constraints=constraints)\n",
        "optimum_x1=result.x\n",
        "\n",
        "# Print the result\n",
        "if result.success:\n",
        "    print(\"Optimal solution found:\")\n",
        "    print(\"x =\", result.x)\n",
        "    print(\"Minimum value of the objective function =\", result.fun)\n",
        "else:\n",
        "    print(\"Optimization failed:\", result.message)\n"
      ]
    },
    {
      "cell_type": "code",
      "execution_count": null,
      "id": "a0b4fd43",
      "metadata": {
        "id": "a0b4fd43",
        "outputId": "d22f905f-2df4-4026-dd2f-b2ff445f38d5"
      },
      "outputs": [
        {
          "name": "stdout",
          "output_type": "stream",
          "text": [
            "Optimal solution found:\n",
            "x = [-2.00000535 -1.00000789]\n",
            "Minimum value of the objective function = 15.000000000000249\n"
          ]
        }
      ],
      "source": [
        "# Define the objective function\n",
        "def objective_function2(x):\n",
        "    return ((3*x[0] - 2*x[1]+4)**2)/8 + (x[0]-x[1]+1)**2/27 + 15\n",
        "\n",
        "# Define the constraints\n",
        "constraints = ({'type': 'ineq', 'fun': lambda x: x[0] - (-3)},\n",
        "               {'type': 'ineq', 'fun': lambda x: 3 - x[0]},\n",
        "               {'type': 'ineq', 'fun': lambda x: x[1] - (-3)},\n",
        "               {'type': 'ineq', 'fun': lambda x: 3 - x[1]})\n",
        "# Initial guess\n",
        "x0 = np.array([0.1, 0.2])\n",
        "\n",
        "# Perform the optimization\n",
        "result = minimize(objective_function2, x0, constraints=constraints)\n",
        "optimum_x1=result.x\n",
        "\n",
        "# Print the result\n",
        "if result.success:\n",
        "    print(\"Optimal solution found:\")\n",
        "    print(\"x =\", result.x)\n",
        "    print(\"Minimum value of the objective function =\", result.fun)\n",
        "else:\n",
        "    print(\"Optimization failed:\", result.message)"
      ]
    },
    {
      "cell_type": "code",
      "execution_count": null,
      "id": "02b3d390",
      "metadata": {
        "id": "02b3d390",
        "outputId": "7fa49b43-b746-4e6f-b2ff-0378a0539ae9"
      },
      "outputs": [
        {
          "name": "stdout",
          "output_type": "stream",
          "text": [
            "Optimal solution found:\n",
            "x = [0.0001712  0.00034252]\n",
            "Minimum value of the objective function = -0.09999998533683807\n"
          ]
        }
      ],
      "source": [
        "# Define the objective function\n",
        "def objective_function3(x):\n",
        "    return (1/(x[0]**2 + x[1]**2 + 1) - 1.1 * exp(-(x[0]**2 + x[1]**2)))\n",
        "\n",
        "# Define the constraints\n",
        "constraints = ({'type': 'ineq', 'fun': lambda x: x[0] - (-3)},\n",
        "               {'type': 'ineq', 'fun': lambda x: 3 - x[0]},\n",
        "               {'type': 'ineq', 'fun': lambda x: x[1] - (-3)},\n",
        "               {'type': 'ineq', 'fun': lambda x: 3 - x[1]})\n",
        "# Initial guess\n",
        "x0 = np.array([0.1, 0.2])\n",
        "\n",
        "# Perform the optimization\n",
        "result = minimize(objective_function3, x0, constraints=constraints)\n",
        "optimum_x1=result.x\n",
        "\n",
        "# Print the result\n",
        "if result.success:\n",
        "    print(\"Optimal solution found:\")\n",
        "    print(\"x =\", result.x)\n",
        "    print(\"Minimum value of the objective function =\", result.fun)\n",
        "else:\n",
        "    print(\"Optimization failed:\", result.message)"
      ]
    },
    {
      "cell_type": "markdown",
      "id": "b41298be",
      "metadata": {
        "id": "b41298be"
      },
      "source": [
        "# Finding the CHIM Simplex"
      ]
    },
    {
      "cell_type": "code",
      "execution_count": null,
      "id": "d4031d70",
      "metadata": {
        "id": "d4031d70",
        "outputId": "6d075f33-08fd-4a86-a473-d715989332ee"
      },
      "outputs": [
        {
          "name": "stdout",
          "output_type": "stream",
          "text": [
            "Vertex 1:  2.19947285403902e-07 , 17.036852910980084 , -0.09999998533683807\n"
          ]
        }
      ],
      "source": [
        "vertex1=[objective_function1(optimum_x1), objective_function2(optimum_x1),objective_function3(optimum_x1)]\n",
        "print(\"Vertex 1: \", vertex1[0], \",\", vertex1[1], \",\", vertex1[2])"
      ]
    },
    {
      "cell_type": "code",
      "execution_count": null,
      "id": "ab371d6a",
      "metadata": {
        "id": "ab371d6a",
        "outputId": "903b5f30-18c5-48fe-8d88-2daa9df2f0ee"
      },
      "outputs": [
        {
          "name": "stdout",
          "output_type": "stream",
          "text": [
            "Vertex 2:  1.9092974268261722 , 18.162047981635325 , 0.18446452177328027\n"
          ]
        }
      ],
      "source": [
        "vertex2=[objective_function1(optimum_x2), objective_function2(optimum_x2),objective_function3(optimum_x2)]\n",
        "print(\"Vertex 2: \", vertex2[0], \",\", vertex2[1], \",\", vertex2[2])"
      ]
    },
    {
      "cell_type": "code",
      "execution_count": null,
      "id": "5886ae4a",
      "metadata": {
        "id": "5886ae4a",
        "outputId": "2a1e6319-2b00-461e-946c-840da788f0f4"
      },
      "outputs": [
        {
          "name": "stdout",
          "output_type": "stream",
          "text": [
            "Vertex 3:  -0.33020899549278965 , 0.018869974551904485 , 0.9437192107903601\n"
          ]
        }
      ],
      "source": [
        "vertex1=[objective_function1(optimum_x3), objective_function2(optimum_x3),objective_function3(optimum_x3)]\n",
        "print(\"Vertex 3: \", vertex3[0], \",\", vertex3[1], \",\", vertex3[2])"
      ]
    },
    {
      "cell_type": "markdown",
      "id": "f83874fa",
      "metadata": {
        "id": "f83874fa"
      },
      "source": [
        "Hence, the CHIM simplex is a triangle joining the above 3 points"
      ]
    },
    {
      "cell_type": "markdown",
      "id": "dc65ad08",
      "metadata": {
        "id": "dc65ad08"
      },
      "source": [
        "## Finding the normal to the CHIM simplex"
      ]
    },
    {
      "cell_type": "code",
      "execution_count": null,
      "id": "1c20e1a1",
      "metadata": {
        "id": "1c20e1a1",
        "outputId": "832cd1ee-b593-4660-c5a6-276a098e8c7f"
      },
      "outputs": [
        {
          "name": "stdout",
          "output_type": "stream",
          "text": [
            "[-1.536816723053179, -2.027869020812652, -0.24113406220669703]\n",
            "[-2.239506422318962, -18.14317800708342, 0.7592546890170799]\n"
          ]
        }
      ],
      "source": [
        "side1=[]\n",
        "side2=[]\n",
        "for i in range(0,3):\n",
        "    side1.append(vertex1[i]-vertex2[i])\n",
        "    side2.append(vertex3[i]-vertex2[i])\n",
        "print(side1)\n",
        "print(side2)"
      ]
    },
    {
      "cell_type": "code",
      "execution_count": null,
      "id": "605c27ef",
      "metadata": {
        "id": "605c27ef",
        "outputId": "c4d8135c-2758-4dff-e88c-80d1c17acfc6"
      },
      "outputs": [
        {
          "name": "stdout",
          "output_type": "stream",
          "text": [
            "[23.34131367488485, 1.7068565840897474, -5.9146072769517115]\n"
          ]
        }
      ],
      "source": [
        "area=[]\n",
        "area.append(side1[0]*side2[1] - side2[0]*side1[1])\n",
        "area.append(-side1[0]*side2[2] + side2[0]*side1[2])\n",
        "area.append(side1[1]*side2[2] - side2[1]*side1[2])\n",
        "print(area)"
      ]
    },
    {
      "cell_type": "code",
      "execution_count": null,
      "id": "acdda391",
      "metadata": {
        "id": "acdda391"
      },
      "outputs": [],
      "source": [
        "sum=0\n",
        "for i in range(0,3):\n",
        "    sum+=area[i]**2\n",
        "area_value=sum**0.5"
      ]
    },
    {
      "cell_type": "code",
      "execution_count": null,
      "id": "9ddbc67f",
      "metadata": {
        "id": "9ddbc67f",
        "outputId": "14a2d553-cb12-4750-c15f-52f7d533a1e5"
      },
      "outputs": [
        {
          "name": "stdout",
          "output_type": "stream",
          "text": [
            "[0.4834682926067039, 0.03535409574321879, -0.1225091749957444]\n"
          ]
        }
      ],
      "source": [
        "normal_vector=[]\n",
        "for i in range(0,3):\n",
        "    normal_vector.append((0.5*area[i])/area_value)\n",
        "print(normal_vector)"
      ]
    },
    {
      "cell_type": "markdown",
      "id": "cb081305",
      "metadata": {
        "id": "cb081305"
      },
      "source": [
        "The above is the normal vector to the CHIM"
      ]
    },
    {
      "cell_type": "markdown",
      "id": "5ca87cc8",
      "metadata": {
        "id": "5ca87cc8"
      },
      "source": [
        "## Making the payoff matrix"
      ]
    },
    {
      "cell_type": "code",
      "execution_count": null,
      "id": "cb7d84ee",
      "metadata": {
        "id": "cb7d84ee",
        "outputId": "38a1f118-abfc-41bf-d5c8-352f04ab1c03"
      },
      "outputs": [
        {
          "name": "stdout",
          "output_type": "stream",
          "text": [
            "PAYOFF MATRIX\n",
            "0                    -1.1251950706552414                    -0.043330444903421306                     \n",
            "1.9092972068788867                    0                    0.24113406220669703                     \n",
            "0.37248048382570764                    -2.027869020812652                    0                     \n"
          ]
        }
      ],
      "source": [
        "payoffmatrix=[0, objective_function2(optimum_x1)-objective_function2(optimum_x2), objective_function3(optimum_x1)-objective_function3(optimum_x3), objective_function1(optimum_x2)-objective_function1(optimum_x1), 0,objective_function3(optimum_x2)-objective_function3(optimum_x3), objective_function1(optimum_x3)-objective_function1(optimum_x1), objective_function2(optimum_x3)-objective_function2(optimum_x2), 0]\n",
        "print(\"PAYOFF MATRIX\")\n",
        "for i in range(0,9,3):\n",
        "    for j in range(0,3):\n",
        "        print(payoffmatrix[i+j],end=\"                    \")\n",
        "    print(\" \")"
      ]
    },
    {
      "cell_type": "code",
      "execution_count": null,
      "id": "fca5bcd4",
      "metadata": {
        "id": "fca5bcd4",
        "outputId": "b6654801-11e6-4b1e-ed7a-722aa2b0fa3f"
      },
      "outputs": [
        {
          "name": "stdout",
          "output_type": "stream",
          "text": [
            "1 ----------------------------------------------------------\n",
            "a1:  0 a2:  0.0 a3:  1.0\n",
            "Point on the cartesian plane:  4.377618130098624 ,  47.093277439766304 ,  0.0861544245206344\n",
            "2 ----------------------------------------------------------\n",
            "a1:  0 a2:  0.05 a3:  0.95\n",
            "Point on the cartesian plane:  4.3725369195934425 ,  46.97002483167077 ,  0.08656217263479778\n",
            "3 ----------------------------------------------------------\n",
            "a1:  0 a2:  0.1 a3:  0.9\n",
            "Point on the cartesian plane:  4.371428266699547 ,  46.93008188464894 ,  0.08670202573523564\n",
            "4 ----------------------------------------------------------\n",
            "a1:  0 a2:  0.15000000000000002 a3:  0.85\n",
            "Point on the cartesian plane:  4.514958270449123 ,  43.414488855875256 ,  0.09215869164239414\n",
            "5 ----------------------------------------------------------\n",
            "a1:  0 a2:  0.2 a3:  0.8\n",
            "Point on the cartesian plane:  4.648706357109199 ,  42.0677667049808 ,  0.09468309695950346\n",
            "6 ----------------------------------------------------------\n",
            "a1:  0 a2:  0.25 a3:  0.75\n",
            "Point on the cartesian plane:  4.3785931342322835 ,  41.03495185756236 ,  0.08823556214197095\n",
            "7 ----------------------------------------------------------\n",
            "a1:  0 a2:  0.30000000000000004 a3:  0.7\n",
            "Point on the cartesian plane:  4.370451327882148 ,  39.50413496245413 ,  0.08688502946543035\n",
            "8 ----------------------------------------------------------\n",
            "a1:  0 a2:  0.35000000000000003 a3:  0.6499999999999999\n",
            "Point on the cartesian plane:  4.37081706507719 ,  39.06560461458699 ,  0.08747676873850883\n",
            "9 ----------------------------------------------------------\n",
            "a1:  0 a2:  0.4 a3:  0.6\n",
            "Point on the cartesian plane:  2.186305584548034 ,  35.34340414717384 ,  0.1471884323147503\n",
            "10 ----------------------------------------------------------\n",
            "a1:  0 a2:  0.45 a3:  0.55\n",
            "Point on the cartesian plane:  4.823986541240558 ,  39.84554627887633 ,  0.09795003004865713\n",
            "11 ----------------------------------------------------------\n",
            "a1:  0 a2:  0.5 a3:  0.5\n",
            "Point on the cartesian plane:  4.570067709263783 ,  42.8609652813194 ,  0.09323678091423439\n",
            "12 ----------------------------------------------------------\n",
            "a1:  0 a2:  0.55 a3:  0.44999999999999996\n",
            "Point on the cartesian plane:  4.39334505351552 ,  44.92819224698529 ,  0.08897993050812765\n",
            "13 ----------------------------------------------------------\n",
            "a1:  0 a2:  0.6000000000000001 a3:  0.3999999999999999\n",
            "Point on the cartesian plane:  3.091678949254482 ,  36.90490073479973 ,  0.13580913367307756\n",
            "14 ----------------------------------------------------------\n",
            "a1:  0 a2:  0.65 a3:  0.35\n",
            "Point on the cartesian plane:  4.37469197783007 ,  47.03008346941392 ,  0.08636121910009158\n",
            "15 ----------------------------------------------------------\n",
            "a1:  0 a2:  0.7000000000000001 a3:  0.29999999999999993\n",
            "Point on the cartesian plane:  4.935177553830315 ,  49.24854362399277 ,  0.07960689080023088\n",
            "16 ----------------------------------------------------------\n",
            "a1:  0 a2:  0.75 a3:  0.25\n",
            "Point on the cartesian plane:  4.395226556393428 ,  47.33172228079797 ,  0.08538167343810088\n",
            "17 ----------------------------------------------------------\n",
            "a1:  0 a2:  0.8 a3:  0.19999999999999996\n",
            "Point on the cartesian plane:  4.37052967450933 ,  46.839683550422684 ,  0.08686565649473627\n",
            "18 ----------------------------------------------------------\n",
            "a1:  0 a2:  0.8500000000000001 a3:  0.1499999999999999\n",
            "Point on the cartesian plane:  4.374566395367582 ,  46.44652366855203 ,  0.08793347678774428\n",
            "19 ----------------------------------------------------------\n",
            "a1:  0 a2:  0.9 a3:  0.09999999999999998\n",
            "Point on the cartesian plane:  2.4156109146962743 ,  35.76923228792185 ,  0.14399074694757014\n",
            "20 ----------------------------------------------------------\n",
            "a1:  0 a2:  0.9500000000000001 a3:  0.04999999999999993\n",
            "Point on the cartesian plane:  2.4081931886656345 ,  35.75317529746414 ,  0.14408954730245538\n",
            "1 ----------------------------------------------------------\n",
            "a1:  0.0 a2:  0 a3:  1.0\n",
            "Point on the cartesian plane:  4.377618130098624 ,  47.093277439766304 ,  0.0861544245206344\n",
            "2 ----------------------------------------------------------\n",
            "a1:  0.05 a2:  0 a3:  0.95\n",
            "Point on the cartesian plane:  4.39594613153021 ,  47.33915313337611 ,  0.08535775738208005\n",
            "3 ----------------------------------------------------------\n",
            "a1:  0.1 a2:  0 a3:  0.9\n",
            "Point on the cartesian plane:  4.42676011937086 ,  47.59281822613853 ,  0.08455016704379838\n",
            "4 ----------------------------------------------------------\n",
            "a1:  0.15000000000000002 a2:  0 a3:  0.85\n",
            "Point on the cartesian plane:  4.471655965354656 ,  47.85481958597905 ,  0.08373082197441542\n",
            "5 ----------------------------------------------------------\n",
            "a1:  0.2 a2:  0 a3:  0.8\n",
            "Point on the cartesian plane:  4.530157217961679 ,  48.11715066351929 ,  0.08292481435149814\n",
            "6 ----------------------------------------------------------\n",
            "a1:  0.25 a2:  0 a3:  0.75\n",
            "Point on the cartesian plane:  4.604143077875386 ,  48.38575247399887 ,  0.08211425783961615\n",
            "7 ----------------------------------------------------------\n",
            "a1:  0.30000000000000004 a2:  0 a3:  0.7\n",
            "Point on the cartesian plane:  4.613158317802565 ,  48.415292392444826 ,  0.08202588146189407\n",
            "8 ----------------------------------------------------------\n",
            "a1:  0.35000000000000003 a2:  0 a3:  0.6499999999999999\n",
            "Point on the cartesian plane:  4.512033134332544 ,  48.042075470959546 ,  0.08315390825773267\n",
            "9 ----------------------------------------------------------\n",
            "a1:  0.4 a2:  0 a3:  0.6\n",
            "Point on the cartesian plane:  4.439939040521857 ,  47.678332914759494 ,  0.08428112164404533\n",
            "10 ----------------------------------------------------------\n",
            "a1:  0.45 a2:  0 a3:  0.55\n",
            "Point on the cartesian plane:  4.393211116244702 ,  47.31026337263106 ,  0.0854506627416382\n",
            "11 ----------------------------------------------------------\n",
            "a1:  0.5 a2:  0 a3:  0.5\n",
            "Point on the cartesian plane:  4.589292013756835 ,  48.335714172105476 ,  0.08226406357214221\n",
            "12 ----------------------------------------------------------\n",
            "a1:  0.55 a2:  0 a3:  0.44999999999999996\n",
            "Point on the cartesian plane:  4.444716891317926 ,  47.70723841554353 ,  0.08419051625898664\n",
            "13 ----------------------------------------------------------\n",
            "a1:  0.6000000000000001 a2:  0 a3:  0.3999999999999999\n",
            "Point on the cartesian plane:  4.487865492885231 ,  47.93390141146913 ,  0.08348623897368428\n",
            "14 ----------------------------------------------------------\n",
            "a1:  0.65 a2:  0 a3:  0.35\n",
            "Point on the cartesian plane:  4.544241851901291 ,  48.172500607189214 ,  0.08275654976537822\n",
            "15 ----------------------------------------------------------\n",
            "a1:  0.7000000000000001 a2:  0 a3:  0.29999999999999993\n",
            "Point on the cartesian plane:  4.579785557712691 ,  48.30282828974735 ,  0.08236293445345375\n",
            "16 ----------------------------------------------------------\n",
            "a1:  0.75 a2:  0 a3:  0.25\n",
            "Point on the cartesian plane:  4.491112253214137 ,  47.949039154132876 ,  0.08343952818015322\n",
            "17 ----------------------------------------------------------\n",
            "a1:  0.8 a2:  0 a3:  0.19999999999999996\n",
            "Point on the cartesian plane:  4.427726844824329 ,  47.599461958754574 ,  0.084529342566202\n",
            "18 ----------------------------------------------------------\n",
            "a1:  0.8500000000000001 a2:  0 a3:  0.1499999999999999\n",
            "Point on the cartesian plane:  4.387819602224127 ,  47.24765520334262 ,  0.08565264905602245\n",
            "19 ----------------------------------------------------------\n",
            "a1:  0.9 a2:  0 a3:  0.09999999999999998\n",
            "Point on the cartesian plane:  1.232880855185305 ,  31.740087639315643 ,  0.1739620918219063\n",
            "20 ----------------------------------------------------------\n",
            "a1:  0.9500000000000001 a2:  0 a3:  0.04999999999999993\n",
            "Point on the cartesian plane:  1.23291040841977 ,  31.759712802417067 ,  0.17395531837242867\n",
            "1 ----------------------------------------------------------\n",
            "a1:  0.0 a2:  1.0 a3:  0\n",
            "Point on the cartesian plane:  4.370508057411102 ,  45.87121665742527 ,  0.08687085873977624\n",
            "2 ----------------------------------------------------------\n",
            "a1:  0.05 a2:  0.95 a3:  0\n",
            "Point on the cartesian plane:  2.617618717387018 ,  36.11903499041351 ,  0.14139439766115725\n",
            "3 ----------------------------------------------------------\n",
            "a1:  0.1 a2:  0.9 a3:  0\n",
            "Point on the cartesian plane:  4.370754459903926 ,  46.66060856233918 ,  0.08681660355275728\n",
            "4 ----------------------------------------------------------\n",
            "a1:  0.15000000000000002 a2:  0.85 a3:  0\n",
            "Point on the cartesian plane:  4.37051767523884 ,  46.83216456009141 ,  0.0868685315222016\n",
            "5 ----------------------------------------------------------\n",
            "a1:  0.2 a2:  0.8 a3:  0\n",
            "Point on the cartesian plane:  4.446170864663992 ,  47.71584759279411 ,  0.08416357654360435\n",
            "6 ----------------------------------------------------------\n",
            "a1:  0.25 a2:  0.75 a3:  0\n",
            "Point on the cartesian plane:  5.042068054136219 ,  49.47125258706298 ,  0.07898313436424058\n",
            "7 ----------------------------------------------------------\n",
            "a1:  0.30000000000000004 a2:  0.7 a3:  0\n",
            "Point on the cartesian plane:  1.9662036619359267 ,  34.896022661632486 ,  0.15062304838370463\n",
            "8 ----------------------------------------------------------\n",
            "a1:  0.35000000000000003 a2:  0.6499999999999999 a3:  0\n",
            "Point on the cartesian plane:  4.3844306453845405 ,  45.11372451463896 ,  0.08857143687495407\n",
            "9 ----------------------------------------------------------\n",
            "a1:  0.4 a2:  0.6 a3:  0\n",
            "Point on the cartesian plane:  4.67260781262732 ,  41.815861146616456 ,  0.09511524649253875\n",
            "10 ----------------------------------------------------------\n",
            "a1:  0.45 a2:  0.55 a3:  0\n",
            "Point on the cartesian plane:  4.41423705140728 ,  44.58595096485918 ,  0.08972388619616606\n",
            "11 ----------------------------------------------------------\n",
            "a1:  0.5 a2:  0.5 a3:  0\n",
            "Point on the cartesian plane:  4.400909676369498 ,  38.01026333958659 ,  0.08927369803135705\n",
            "12 ----------------------------------------------------------\n",
            "a1:  0.55 a2:  0.44999999999999996 a3:  0\n",
            "Point on the cartesian plane:  4.370582438296158 ,  45.878901798682534 ,  0.08685336537487642\n",
            "13 ----------------------------------------------------------\n",
            "a1:  0.6000000000000001 a2:  0.3999999999999999 a3:  0\n",
            "Point on the cartesian plane:  4.6014761620843165 ,  42.54802810684227 ,  0.09382214173651778\n",
            "14 ----------------------------------------------------------\n",
            "a1:  0.65 a2:  0.35 a3:  0\n",
            "Point on the cartesian plane:  4.660202248997639 ,  41.947576848657974 ,  0.0948910200369355\n",
            "15 ----------------------------------------------------------\n",
            "a1:  0.7000000000000001 a2:  0.29999999999999993 a3:  0\n",
            "Point on the cartesian plane:  4.664791927755213 ,  48.575078421046165 ,  0.08155160045649681\n",
            "16 ----------------------------------------------------------\n",
            "a1:  0.75 a2:  0.25 a3:  0\n",
            "Point on the cartesian plane:  4.467222452229767 ,  47.83207202742019 ,  0.08380141207610697\n",
            "17 ----------------------------------------------------------\n",
            "a1:  0.8 a2:  0.19999999999999996 a3:  0\n",
            "Point on the cartesian plane:  4.888807171848758 ,  49.14618981128144 ,  0.07989690315446789\n",
            "18 ----------------------------------------------------------\n",
            "a1:  0.8500000000000001 a2:  0.1499999999999999 a3:  0\n",
            "Point on the cartesian plane:  4.776162491710518 ,  48.8781315377288 ,  0.080665703428726\n",
            "19 ----------------------------------------------------------\n",
            "a1:  0.9 a2:  0.09999999999999998 a3:  0\n",
            "Point on the cartesian plane:  4.502519828419908 ,  48.00071676475683 ,  0.0832806794407489\n",
            "20 ----------------------------------------------------------\n",
            "a1:  0.9500000000000001 a2:  0.04999999999999993 a3:  0\n",
            "Point on the cartesian plane:  4.37620393521526 ,  47.06459182777493 ,  0.08624799309422532\n"
          ]
        }
      ],
      "source": [
        "global a1, a2\n",
        "\n",
        "def main_obj(y):\n",
        "    return -y[2]\n",
        "\n",
        "def constraint1(y):\n",
        "    return a2*1.9092972068788867 + (1-a1-a2)*0.37248048382570764 + y[2]*-0.4834682926067039 - (0.5*(y[0]**2 + y[1]**2) + np.sin(y[0]**2 + y[1]**2))  + objective_function1(optimum_x1)\n",
        "\n",
        "def constraint2(y):\n",
        "    return a1*-1.1251950706552414 + (1-a1-a2)*-2.027869020812652 + y[2]*-0.03535409574321879 - ((3*y[0] - 2*y[1]+4)**2)/8 + (y[0]-y[1]+1)**2/27 + 15 + objective_function2(optimum_x2)\n",
        "\n",
        "def constraint3(y):\n",
        "    return a1*-0.043330444903421306 + a2*0.24113406220669703 + y[2]*0.1225091749957444 - (1/(y[0]**2 + y[1]**2 + 1) - 1.1 * exp(-(y[0]**2 + y[1]**2))) + objective_function3(optimum_x3)\n",
        "\n",
        "cons1 = {'type': 'eq', 'fun':constraint1}\n",
        "cons2 = {'type': 'eq', 'fun':constraint2}\n",
        "cons3 = {'type': 'eq', 'fun':constraint3}\n",
        "\n",
        "constraint = [cons1, cons2, cons3]\n",
        "x1_bounds = (-3, 3)\n",
        "x2_bounds = (-3, 3)\n",
        "x3_bounds = (-10e5, 10e5)\n",
        "\n",
        "# Combine the bounds into a list\n",
        "bounds = [x1_bounds, x2_bounds, x3_bounds]\n",
        "\n",
        "a1=0.05\n",
        "a2=0.05\n",
        "x1=[0.1,0.2, 0.3]\n",
        "\n",
        "X1=[]\n",
        "Y1=[]\n",
        "Z1=[]\n",
        "\n",
        "a1=0\n",
        "for i in range(0,20):\n",
        "    a2=0.05*i\n",
        "    a3=1-a2\n",
        "    print(i+1, \"----------------------------------------------------------\")\n",
        "    sol1 = minimize(main_obj, x1, method='SLSQP',bounds= bounds , constraints=constraint)\n",
        "    print(\"a1: \", a1, \"a2: \", a2, \"a3: \", a3)\n",
        "    X1.append(objective_function1(sol1.x))\n",
        "    Y1.append(objective_function2(sol1.x))\n",
        "    Z1.append(objective_function3(sol1.x))\n",
        "    print(\"Point on the cartesian plane: \", objective_function1(sol1.x), \", \", objective_function2(sol1.x), \", \", objective_function3(sol1.x))\n",
        "\n",
        "a2=0\n",
        "for i in range(0,20):\n",
        "    a1=0.05*i\n",
        "    a3=1-a1\n",
        "    print(i+1, \"----------------------------------------------------------\")\n",
        "    sol1 = minimize(main_obj, x1, method='SLSQP',bounds= bounds , constraints=constraint)\n",
        "    print(\"a1: \", a1, \"a2: \", a2, \"a3: \", a3)\n",
        "    X1.append(objective_function1(sol1.x))\n",
        "    Y1.append(objective_function2(sol1.x))\n",
        "    Z1.append(objective_function3(sol1.x))\n",
        "    print(\"Point on the cartesian plane: \", objective_function1(sol1.x), \", \", objective_function2(sol1.x), \", \", objective_function3(sol1.x))\n",
        "\n",
        "a3=0\n",
        "for i in range(0,20):\n",
        "    a1=0.05*i\n",
        "    a2=1-a1\n",
        "    print(i+1, \"----------------------------------------------------------\")\n",
        "    sol1 = minimize(main_obj, x1, method='SLSQP',bounds= bounds , constraints=constraint)\n",
        "    print(\"a1: \", a1, \"a2: \", a2, \"a3: \", a3)\n",
        "    X1.append(objective_function1(sol1.x))\n",
        "    Y1.append(objective_function2(sol1.x))\n",
        "    Z1.append(objective_function3(sol1.x))\n",
        "    print(\"Point on the cartesian plane: \", objective_function1(sol1.x), \", \", objective_function2(sol1.x), \", \", objective_function3(sol1.x))"
      ]
    },
    {
      "cell_type": "code",
      "execution_count": null,
      "id": "a74ef417",
      "metadata": {
        "id": "a74ef417",
        "outputId": "83cb8eaf-bf24-41b6-ce0a-586a8da30c6c"
      },
      "outputs": [
        {
          "data": {
            "image/png": "[encoded data removed]",
            "text/plain": [
              "<Figure size 640x480 with 1 Axes>"
            ]
          },
          "metadata": {},
          "output_type": "display_data"
        }
      ],
      "source": [
        "import matplotlib.pyplot as plt\n",
        "from mpl_toolkits.mplot3d import Axes3D\n",
        "\n",
        "# Create a 3D scatter plot\n",
        "fig = plt.figure()\n",
        "ax = fig.add_subplot(111, projection='3d')\n",
        "\n",
        "ax.scatter(X1, Y1, Z1)\n",
        "\n",
        "# Customize labels\n",
        "ax.set_xlabel('f1(x)')\n",
        "ax.set_ylabel('f2(x)')\n",
        "ax.set_zlabel('f3(x)')\n",
        "\n",
        "# Show the plot\n",
        "plt.show()"
      ]
    },
    {
      "cell_type": "code",
      "execution_count": null,
      "id": "df9dfbc4",
      "metadata": {
        "id": "df9dfbc4"
      },
      "outputs": [],
      "source": []
    }
  ],
  "metadata": {
    "kernelspec": {
      "display_name": "Python 3 (ipykernel)",
      "language": "python",
      "name": "python3"
    },
    "language_info": {
      "codemirror_mode": {
        "name": "ipython",
        "version": 3
      },
      "file_extension": ".py",
      "mimetype": "text/x-python",
      "name": "python",
      "nbconvert_exporter": "python",
      "pygments_lexer": "ipython3",
      "version": "3.11.4"
    },
    "colab": {
      "provenance": [],
      "include_colab_link": true
    }
  },
  "nbformat": 4,
  "nbformat_minor": 5
}